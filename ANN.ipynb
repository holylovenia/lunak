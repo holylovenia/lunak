{
 "cells": [
  {
   "cell_type": "code",
   "execution_count": 1,
   "metadata": {},
   "outputs": [],
   "source": [
    "import math\n",
    "import numpy as np\n",
    "\n",
    "class DenseLayer:\n",
    "    def __init__(self, units, activation, input_dim, init, use_bias=False):\n",
    "        self.units = units\n",
    "        self.input_dim = input_dim\n",
    "        \n",
    "        if activation == 'sigmoid':\n",
    "            self.activation_function = self.sigmoid\n",
    "        else:\n",
    "            print('Activation function not supported')\n",
    "        \n",
    "        if init == 'uniform':\n",
    "            self.weight_matrix = np.random.uniform(0.0, 1.0, size=(self.units, input_dim)) \n",
    "        elif init == 'random':\n",
    "            self.weight_matrix = np.random.random(size=(self.units, input_dim))\n",
    "        else:\n",
    "            print('Init function not supported')\n",
    "        \n",
    "        self.delta_weight_matrix_before = np.zeros((self.units, input_dim))\n",
    "        self.delta_weight_matrix = np.zeros((self.units, input_dim))\n",
    "        \n",
    "        self.use_bias = use_bias\n",
    "        if self.use_bias:\n",
    "            bias = np.zeros((units, 1))\n",
    "            self.weight_matrix = np.hstack((self.weight_matrix, bias))\n",
    "            self.delta_weight_matrix_before = np.hstack((self.delta_weight_matrix_before, np.zeros((units, 1))))\n",
    "            self.delta_weight_matrix = np.hstack((self.delta_weight_matrix, np.zeros((units, 1))))\n",
    "            \n",
    "    def calculate_sigma(self, input_list):\n",
    "        if self.use_bias:\n",
    "            input_list = np.append(input_list, 1)\n",
    "        \n",
    "        result_list = np.array([])\n",
    "        for weight_neuron in self.weight_matrix:\n",
    "            result_list = np.append(result_list, np.dot(weight_neuron, input_list))\n",
    "        return np.array(result_list)\n",
    "    \n",
    "    def calculate_output(self, input_list):\n",
    "        output_list = np.array([])\n",
    "        for sigma_neuron in self.calculate_sigma(input_list):\n",
    "            output_list = np.append(output_list, self.activation_function(sigma_neuron))\n",
    "        self.output_list = output_list\n",
    "        return self.output_list\n",
    "    \n",
    "    def calculate_local_gradient_output_layer(self, target_list):\n",
    "        \"\"\"\n",
    "        Use this if the layer is output layer\n",
    "        \"\"\"\n",
    "        result_list = np.array([])\n",
    "        for index, output in enumerate(self.output_list):\n",
    "            local_gradient = output * (1 - output) * (target_list[index] - output)\n",
    "            result_list = np.append(result_list, local_gradient)  \n",
    "        self.local_gradient = result_list\n",
    "        return self.local_gradient\n",
    "    \n",
    "    def calculate_local_gradient_hidden_layer(self, local_gradient_output_list, output_layer_weight_matrix):\n",
    "        \"\"\"\n",
    "        Use this if the layer is hidden layer\n",
    "        \"\"\"\n",
    "        result_list = np.array([])\n",
    "        for index, output in enumerate(self.output_list):\n",
    "            sigma_local_gradient_output = 0\n",
    "            for unit_number, local_gradient in enumerate(local_gradient_output_list):\n",
    "                sigma_local_gradient_output += output_layer_weight_matrix[unit_number][index] * local_gradient\n",
    "            error_hidden = output * (1 - output) * sigma_local_gradient_output\n",
    "            result_list = np.append(result_list, error_hidden)\n",
    "        self.local_gradient = result_list\n",
    "        return self.local_gradient\n",
    "    \n",
    "    def update_delta_weight(self, lr, input_list, momentum=None):\n",
    "        \"\"\"\n",
    "        Function to update delta weight\n",
    "        \"\"\"\n",
    "        if self.use_bias:\n",
    "            input_list = np.append(input_list, 1)\n",
    "        if momentum == None:\n",
    "            for j, unit in enumerate(self.weight_matrix): #j  \n",
    "                for i, source in enumerate(unit): #i\n",
    "                    delta_weight = lr * self.local_gradient[j] * input_list[i]\n",
    "#                     new_weight = source + delta_weight\n",
    "#                     self.weight_matrix[j][i] = new_weight\n",
    "                    self.delta_weight_matrix[j][i] = delta_weight\n",
    "        else:\n",
    "            for j, unit in enumerate(self.weight_matrix): #j  \n",
    "                for i, source in enumerate(unit): #i\n",
    "                    delta_weight = lr * self.local_gradient[j] * input_list[i] + momentum * self.delta_weight_matrix_before[j][i]\n",
    "                    \n",
    "                    # Update Delta Weight\n",
    "                    self.delta_weight_matrix_before[j][i] = delta_weight\n",
    "                    \n",
    "#                     new_weight = source + delta_weight\n",
    "#                     self.weight_matrix[j][i] = new_weight\n",
    "            \n",
    "            # Copy Last Update of Weight Matrix Before (Equal to Last Weight Matrix)\n",
    "            for j, unit in enumerate(self.delta_weight_matrix_before):\n",
    "                for i, source in enumerate(unit):\n",
    "                    self.delta_weight_matrix[j][i] = self.delta_weight_matrix_before[j][i]\n",
    "            \n",
    "    def update_weight(self):\n",
    "        \"\"\"\n",
    "        Function to update weight\n",
    "        \"\"\"\n",
    "        for j, unit in enumerate(self.delta_weight_matrix_before):\n",
    "            for i, source in enumerate(unit):\n",
    "                self.weight_matrix[j][i] += self.delta_weight_matrix[j][i]\n",
    "    \n",
    "    def sigmoid(self, x):\n",
    "        return 1 / (1 + math.exp(-x))"
   ]
  },
  {
   "cell_type": "code",
   "execution_count": 2,
   "metadata": {},
   "outputs": [
    {
     "data": {
      "text/plain": [
       "array([2.40744413, 2.45737928, 2.68872129])"
      ]
     },
     "execution_count": 2,
     "metadata": {},
     "output_type": "execute_result"
    }
   ],
   "source": [
    "np.random.seed(5)\n",
    "layer = DenseLayer(3, 'sigmoid', 2, 'uniform', True)\n",
    "layer.calculate_sigma([3, 2])"
   ]
  },
  {
   "cell_type": "code",
   "execution_count": 3,
   "metadata": {},
   "outputs": [
    {
     "data": {
      "text/plain": [
       "array([0.9173932 , 0.92109941, 0.93635782])"
      ]
     },
     "execution_count": 3,
     "metadata": {},
     "output_type": "execute_result"
    }
   ],
   "source": [
    "layer.calculate_output([3, 2])"
   ]
  },
  {
   "cell_type": "markdown",
   "metadata": {},
   "source": [
    "# Test Feedforward"
   ]
  },
  {
   "cell_type": "code",
   "execution_count": 4,
   "metadata": {},
   "outputs": [
    {
     "data": {
      "text/plain": [
       "array([0.54239794, 0.58904043])"
      ]
     },
     "execution_count": 4,
     "metadata": {},
     "output_type": "execute_result"
    }
   ],
   "source": [
    "layer_hidden = DenseLayer(2, 'sigmoid', 2, 'uniform', True)\n",
    "layer_hidden.weight_matrix = np.array([[-0.2, 0.1, 0.1], [-0.1, 0.3, 0.1]])\n",
    "\n",
    "layer_hidden.calculate_output([0.1, 0.9])"
   ]
  },
  {
   "cell_type": "markdown",
   "metadata": {},
   "source": [
    "# Test Calculate Local Gradient Hidden Layer"
   ]
  },
  {
   "cell_type": "code",
   "execution_count": 5,
   "metadata": {},
   "outputs": [
    {
     "data": {
      "text/plain": [
       "array([0.00329161, 0.00481495])"
      ]
     },
     "execution_count": 5,
     "metadata": {},
     "output_type": "execute_result"
    }
   ],
   "source": [
    "layer_hidden_output = DenseLayer(2, 'sigmoid', 2, 'uniform', True)\n",
    "layer_hidden_output.output_list = [0.542, 0.589]\n",
    "layer_hidden_output.calculate_local_gradient_hidden_layer([0.0663], [[0.2, 0.3]])"
   ]
  },
  {
   "cell_type": "markdown",
   "metadata": {},
   "source": [
    "# Test Calculate Local Gradient Output Layer"
   ]
  },
  {
   "cell_type": "code",
   "execution_count": 6,
   "metadata": {},
   "outputs": [
    {
     "data": {
      "text/plain": [
       "array([0.06627076])"
      ]
     },
     "execution_count": 6,
     "metadata": {},
     "output_type": "execute_result"
    }
   ],
   "source": [
    "layer_error_output = DenseLayer(1, 'sigmoid', 2, 'uniform', True)\n",
    "layer_error_output.output_list = [0.619]\n",
    "layer_error_output.calculate_local_gradient_output_layer([0.9])"
   ]
  },
  {
   "cell_type": "markdown",
   "metadata": {},
   "source": [
    "# Test Update Weight Momentum 1"
   ]
  },
  {
   "cell_type": "code",
   "execution_count": 7,
   "metadata": {},
   "outputs": [
    {
     "name": "stdout",
     "output_type": "stream",
     "text": [
      "[[0.2 0.3 0.2]]\n",
      "[[0.2 0.3 0.2]]\n",
      "[[0.00900365 0.00979267 0.016595  ]]\n",
      "[[0.20900365 0.30979267 0.216595  ]]\n"
     ]
    }
   ],
   "source": [
    "layer_test_update_weight = DenseLayer(1, 'sigmoid', 2, 'uniform', True)\n",
    "layer_test_update_weight.weight_matrix = np.array([[0.2, 0.3, 0.2]])\n",
    "\n",
    "layer_test_update_weight.delta_weight_matrix_before = np.array([[0.2, 0.3, 0.2]])\n",
    "print(layer_test_update_weight.weight_matrix)\n",
    "print(layer_test_update_weight.delta_weight_matrix_before)\n",
    "\n",
    "layer_test_update_weight.local_gradient = [0.0663]\n",
    "layer_test_update_weight.update_delta_weight(0.25, [0.542, 0.589], 0.0001)\n",
    "layer_test_update_weight.update_weight()\n",
    "print(layer_test_update_weight.delta_weight_matrix_before)\n",
    "print(layer_test_update_weight.weight_matrix)"
   ]
  },
  {
   "cell_type": "markdown",
   "metadata": {},
   "source": [
    "# Test Update Weight Momentum 2"
   ]
  },
  {
   "cell_type": "code",
   "execution_count": 8,
   "metadata": {},
   "outputs": [
    {
     "name": "stdout",
     "output_type": "stream",
     "text": [
      "[[-0.2  0.1  0.1]\n",
      " [-0.1  0.3  0.1]]\n",
      "[[-0.2  0.1  0.1]\n",
      " [-0.1  0.3  0.1]]\n",
      "[[6.2500e-05 7.5250e-04 8.3500e-04]\n",
      " [1.1250e-04 1.1325e-03 1.2350e-03]]\n",
      "[[-0.1999375  0.1007525  0.100835 ]\n",
      " [-0.0998875  0.3011325  0.101235 ]]\n"
     ]
    }
   ],
   "source": [
    "layer_test_update_weight2 = DenseLayer(2, 'sigmoid', 2, 'uniform', True)\n",
    "layer_test_update_weight2.weight_matrix = np.array([[-0.2, 0.1, 0.1], [-0.1, 0.3, 0.1]])\n",
    "\n",
    "layer_test_update_weight2.delta_weight_matrix_before = np.array([[-0.2, 0.1, 0.1], [-0.1, 0.3, 0.1]])\n",
    "print(layer_test_update_weight2.weight_matrix)\n",
    "print(layer_test_update_weight2.delta_weight_matrix_before)\n",
    "\n",
    "layer_test_update_weight2.local_gradient = [0.0033, 0.0049]\n",
    "layer_test_update_weight2.update_delta_weight(0.25, [0.1, 0.9], 0.0001)\n",
    "layer_test_update_weight2.update_weight()\n",
    "print(layer_test_update_weight2.delta_weight_matrix_before)\n",
    "print(layer_test_update_weight2.weight_matrix)"
   ]
  },
  {
   "cell_type": "markdown",
   "metadata": {},
   "source": [
    "# Test Update Weight Without Momentum TODO"
   ]
  },
  {
   "cell_type": "code",
   "execution_count": 9,
   "metadata": {},
   "outputs": [],
   "source": [
    "import pandas as pd"
   ]
  },
  {
   "cell_type": "markdown",
   "metadata": {},
   "source": [
    "# Model Class"
   ]
  },
  {
   "cell_type": "code",
   "execution_count": 10,
   "metadata": {},
   "outputs": [],
   "source": [
    "class LunakModel:\n",
    "    def __init__(self, loss='root_mean_squared', optimizer='sgd'):\n",
    "        assert loss == 'root_mean_squared', 'loss function not supported'\n",
    "        assert optimizer == 'sgd', 'optimizer not supported'\n",
    "        self.layers = []\n",
    "    \n",
    "    def add(self, layer):\n",
    "        self.layers.append(layer)\n",
    "    \n",
    "    def fit(self, X, y, epochs, lr, momentum=None, batch_size=None):\n",
    "        assert X.shape[1] == self.layers[0].input_dim, 'Input dimension must be same with the column'\n",
    "        \n",
    "        if batch_size == None:\n",
    "            batch_size = len(X)\n",
    "        for epoch in range(epochs):\n",
    "            \n",
    "            # SGD Batch / Mini Batch\n",
    "            delta = len(X) // batch_size\n",
    "            for start in range(0, len(X), delta):\n",
    "                X_instance = X[start:start+delta]\n",
    "                y_instance = y[start:start+delta]\n",
    "                \n",
    "                for idx_instance, instance in enumerate(X_instance):\n",
    "                    # Feed Forward\n",
    "                    output_list = self.layers[0].calculate_output(instance)\n",
    "                    for layer in self.layers[1:]:\n",
    "                        new_output_list = layer.calculate_output(output_list)\n",
    "                        output_list = new_output_list\n",
    "                    \n",
    "                    # Calculate Local Gradient for Output Layer\n",
    "                    next_local_gradient_list = self.layers[-1].calculate_local_gradient_output_layer([y_instance[idx_instance]])\n",
    "                    next_layer_weight_matrix = self.layers[-1].weight_matrix\n",
    "                    \n",
    "                    # Calculate Local Gradient for Hidden Layer\n",
    "                    for idx_layer, layer in enumerate(reversed(self.layers[0:-1])):\n",
    "                        next_local_gradient_list = layer.calculate_local_gradient_hidden_layer(next_local_gradient_list, next_layer_weight_matrix)\n",
    "                        next_layer_weight_matrix = layer.weight_matrix\n",
    "                        \n",
    "                    # Calculate Delta Weight\n",
    "                    self.layers[0].update_delta_weight(lr, instance, momentum)\n",
    "                    for idx_layer, layer in enumerate(self.layers[1:]):\n",
    "                        layer.update_delta_weight(lr, self.layers[idx_layer].output_list, momentum)\n",
    "                        \n",
    "                # Update Weight\n",
    "                for layer in self.layers:\n",
    "                    layer.update_weight()\n",
    "                    \n",
    "    "
   ]
  },
  {
   "cell_type": "code",
   "execution_count": 11,
   "metadata": {},
   "outputs": [],
   "source": [
    "model = LunakModel()"
   ]
  },
  {
   "cell_type": "code",
   "execution_count": 12,
   "metadata": {},
   "outputs": [],
   "source": [
    "model.add(DenseLayer(2, 'sigmoid', 2, 'uniform', True))\n",
    "model.add(DenseLayer(1, 'sigmoid', 2, 'uniform', True))"
   ]
  },
  {
   "cell_type": "code",
   "execution_count": 13,
   "metadata": {},
   "outputs": [
    {
     "name": "stdout",
     "output_type": "stream",
     "text": [
      "[[-0.2  0.1  0.1]\n",
      " [-0.1  0.3  0.1]]\n",
      "[[0.2 0.3 0.2]]\n"
     ]
    }
   ],
   "source": [
    "model.layers[0].weight_matrix = np.array([[-0.2, 0.1, 0.1], [-0.1, 0.3, 0.1]])\n",
    "model.layers[1].weight_matrix = np.array([[0.2, 0.3, 0.2]])\n",
    "print(model.layers[0].weight_matrix)\n",
    "\n",
    "print(model.layers[1].weight_matrix)\n"
   ]
  },
  {
   "cell_type": "code",
   "execution_count": 14,
   "metadata": {},
   "outputs": [],
   "source": [
    "X_train = np.array([\n",
    "    [0.1, 0.9]\n",
    "])\n",
    "y_train = np.array([\n",
    "    0.9\n",
    "])"
   ]
  },
  {
   "cell_type": "code",
   "execution_count": 15,
   "metadata": {},
   "outputs": [],
   "source": [
    "model.fit(X_train, y_train, 1, 0.25, 0.0001)"
   ]
  },
  {
   "cell_type": "code",
   "execution_count": 16,
   "metadata": {},
   "outputs": [
    {
     "name": "stdout",
     "output_type": "stream",
     "text": [
      "[[-0.19991775  0.10074028  0.10082253]\n",
      " [-0.09987967  0.30108299  0.10120332]]\n",
      "[0.00329012 0.00481328]\n"
     ]
    }
   ],
   "source": [
    "print(model.layers[0].weight_matrix)\n",
    "print(model.layers[0].local_gradient)"
   ]
  },
  {
   "cell_type": "code",
   "execution_count": 17,
   "metadata": {},
   "outputs": [
    {
     "name": "stdout",
     "output_type": "stream",
     "text": [
      "[[0.20898739 0.30976024 0.21656973]]\n",
      "[0.06627891]\n"
     ]
    }
   ],
   "source": [
    "print(model.layers[1].weight_matrix)\n",
    "print(model.layers[1].local_gradient)"
   ]
  },
  {
   "cell_type": "code",
   "execution_count": null,
   "metadata": {},
   "outputs": [],
   "source": []
  }
 ],
 "metadata": {
  "kernelspec": {
   "display_name": "Python [default]",
   "language": "python",
   "name": "python3"
  },
  "language_info": {
   "codemirror_mode": {
    "name": "ipython",
    "version": 3
   },
   "file_extension": ".py",
   "mimetype": "text/x-python",
   "name": "python",
   "nbconvert_exporter": "python",
   "pygments_lexer": "ipython3",
   "version": "3.6.5"
  }
 },
 "nbformat": 4,
 "nbformat_minor": 2
}
