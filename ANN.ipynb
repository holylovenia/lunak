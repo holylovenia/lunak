{
 "cells": [
  {
   "cell_type": "code",
   "execution_count": 1,
   "metadata": {},
   "outputs": [],
   "source": [
    "import math\n",
    "import numpy as np\n",
    "\n",
    "class DenseLayer:\n",
    "    def __init__(self, units, activation, input_dim, init, use_bias=False):\n",
    "        self.units = units\n",
    "        self.input_dim = input_dim\n",
    "        \n",
    "        if activation == 'sigmoid':\n",
    "            self.activation_function = self.sigmoid\n",
    "        else:\n",
    "            print('Activation function not supported')\n",
    "        \n",
    "        if init == 'uniform':\n",
    "            self.weight_matrix = np.random.uniform(0.0, 1.0, size=(self.units, input_dim)) \n",
    "        elif init == 'random':\n",
    "            self.weight_matrix = np.random.random(size=(self.units, input_dim))\n",
    "        else:\n",
    "            print('Init function not supported')\n",
    "        \n",
    "        self.delta_weight_matrix_before = np.zeros((self.units, input_dim))\n",
    "        \n",
    "        self.use_bias = use_bias\n",
    "        if self.use_bias:\n",
    "            bias = np.zeros((units, 1))\n",
    "            self.weight_matrix = np.hstack((self.weight_matrix, bias))\n",
    "            self.delta_weight_matrix_before = np.hstack((self.delta_weight_matrix_before, np.zeros((units, 1))))\n",
    "            \n",
    "    def calculate_sigma(self, input_list):\n",
    "        if self.use_bias:\n",
    "            input_list = np.append(input_list, 1)\n",
    "        \n",
    "        result_list = np.array([])\n",
    "        for weight_neuron in self.weight_matrix:\n",
    "            result_list = np.append(result_list, np.dot(weight_neuron, input_list))\n",
    "        return np.array(result_list)\n",
    "    \n",
    "    def calculate_output(self, input_list):\n",
    "        output_list = np.array([])\n",
    "        for sigma_neuron in self.calculate_sigma(input_list):\n",
    "            output_list = np.append(output_list, self.activation_function(sigma_neuron))\n",
    "        return output_list\n",
    "    \n",
    "    def calculate_error_output_layer(self, output_list, target_list):\n",
    "        \"\"\"\n",
    "        Use this if the layer is output layer\n",
    "        \"\"\"\n",
    "        result_list = np.array([])\n",
    "        for index, output in enumerate(output_list):\n",
    "            error_output = output * (1 - output) * (target_list[index] - output)\n",
    "            result_list = np.append(result_list, error_output)    \n",
    "        return result_list\n",
    "    \n",
    "    def calculate_error_hidden_layer(self, output_list, error_output_list, output_layer_weight_matrix):\n",
    "        \"\"\"\n",
    "        Use this if the layer is hidden layer\n",
    "        \"\"\"\n",
    "        result_list = np.array([])\n",
    "        for index, output in enumerate(output_list):\n",
    "            sigma_output_error = 0\n",
    "            for unit_number, error_output in enumerate(error_output_list):\n",
    "                sigma_output_error += output_layer_weight_matrix[unit_number][index] * error_output\n",
    "            error_hidden = output * (1 - output) * sigma_output_error\n",
    "            result_list = np.append(result_list, error_hidden)\n",
    "        return result_list\n",
    "    \n",
    "    def update_weight(self, lr, layer_error_list, input_list, momentum=None):\n",
    "        \"\"\"\n",
    "        Function to update weight\n",
    "        \"\"\"\n",
    "        if momentum == None:\n",
    "            for j, unit in enumerate(self.weight_matrix): #j  \n",
    "                for i, source in enumerate(unit): #i\n",
    "                    delta_weight = lr * layer_error_list[j] * input_list[i]\n",
    "                    new_weight = source + delta_weight\n",
    "                    self.weight_matrix[j][i] = new_weight\n",
    "        else:\n",
    "            for j, unit in enumerate(self.weight_matrix): #j  \n",
    "                for i, source in enumerate(unit): #i\n",
    "                    delta_weight = lr * layer_error_list[j] * input_list[i] + momentum * self.delta_weight_matrix_before[j][i]\n",
    "                    self.delta_weight_matrix_before[j][i] = delta_weight\n",
    "                    \n",
    "                    new_weight = source + delta_weight\n",
    "                    self.weight_matrix[j][i] = new_weight\n",
    "                    \n",
    "            \n",
    "    def sigmoid(self, x):\n",
    "        return 1 / (1 + math.exp(-x))"
   ]
  },
  {
   "cell_type": "code",
   "execution_count": 2,
   "metadata": {},
   "outputs": [
    {
     "data": {
      "text/plain": [
       "array([2.40744413, 2.45737928, 2.68872129])"
      ]
     },
     "execution_count": 2,
     "metadata": {},
     "output_type": "execute_result"
    }
   ],
   "source": [
    "np.random.seed(5)\n",
    "layer = DenseLayer(3, 'sigmoid', 2, 'uniform', True)\n",
    "layer.calculate_sigma([3, 2])"
   ]
  },
  {
   "cell_type": "code",
   "execution_count": 3,
   "metadata": {},
   "outputs": [
    {
     "data": {
      "text/plain": [
       "array([0.9173932 , 0.92109941, 0.93635782])"
      ]
     },
     "execution_count": 3,
     "metadata": {},
     "output_type": "execute_result"
    }
   ],
   "source": [
    "layer.calculate_output([3, 2])"
   ]
  },
  {
   "cell_type": "markdown",
   "metadata": {},
   "source": [
    "# Test Feedforward"
   ]
  },
  {
   "cell_type": "code",
   "execution_count": 4,
   "metadata": {},
   "outputs": [
    {
     "data": {
      "text/plain": [
       "array([0.17, 0.36])"
      ]
     },
     "execution_count": 4,
     "metadata": {},
     "output_type": "execute_result"
    }
   ],
   "source": [
    "layer_hidden = DenseLayer(2, 'sigmoid', 2, 'uniform', True)\n",
    "layer_hidden.weight_matrix = np.array([[-0.2, 0.1, 0.1], [-0.1, 0.3, 0.1]])\n",
    "\n",
    "layer_hidden.calculate_sigma([0.1, 0.9])"
   ]
  },
  {
   "cell_type": "markdown",
   "metadata": {},
   "source": [
    "# Test Calculate Hidden Ouput"
   ]
  },
  {
   "cell_type": "code",
   "execution_count": 5,
   "metadata": {},
   "outputs": [
    {
     "data": {
      "text/plain": [
       "array([0.00329161, 0.00481495])"
      ]
     },
     "execution_count": 5,
     "metadata": {},
     "output_type": "execute_result"
    }
   ],
   "source": [
    "layer_hidden_output = DenseLayer(2, 'sigmoid', 2, 'uniform', True)\n",
    "layer_hidden_output.calculate_error_hidden_layer([0.542, 0.589], [0.0663], [[0.2, 0.3]])"
   ]
  },
  {
   "cell_type": "markdown",
   "metadata": {},
   "source": [
    "# Test Calculate Error Output"
   ]
  },
  {
   "cell_type": "code",
   "execution_count": 6,
   "metadata": {},
   "outputs": [
    {
     "data": {
      "text/plain": [
       "array([0.06627076])"
      ]
     },
     "execution_count": 6,
     "metadata": {},
     "output_type": "execute_result"
    }
   ],
   "source": [
    "layer_error_output = DenseLayer(1, 'sigmoid', 2, 'uniform', True)\n",
    "layer_error_output.calculate_error_output_layer([0.619], [0.9])"
   ]
  },
  {
   "cell_type": "markdown",
   "metadata": {},
   "source": [
    "# Test Update Weight Momentum 1"
   ]
  },
  {
   "cell_type": "code",
   "execution_count": 7,
   "metadata": {},
   "outputs": [
    {
     "name": "stdout",
     "output_type": "stream",
     "text": [
      "[[0.2 0.3 0.2]]\n",
      "[[0.2 0.3 0.2]]\n",
      "[[0.00900365 0.00979267 0.016595  ]]\n",
      "[[0.20900365 0.30979267 0.216595  ]]\n"
     ]
    }
   ],
   "source": [
    "layer_test_update_weight = DenseLayer(1, 'sigmoid', 2, 'uniform', True)\n",
    "layer_test_update_weight.weight_matrix = np.array([[0.2, 0.3, 0.2]])\n",
    "\n",
    "layer_test_update_weight.delta_weight_matrix_before = np.array([[0.2, 0.3, 0.2]])\n",
    "print(layer_test_update_weight.weight_matrix)\n",
    "print(layer_test_update_weight.delta_weight_matrix_before)\n",
    "\n",
    "layer_test_update_weight.update_weight(0.25, [0.0663], [0.542, 0.589, 1], 0.0001)\n",
    "print(layer_test_update_weight.delta_weight_matrix_before)\n",
    "print(layer_test_update_weight.weight_matrix)"
   ]
  },
  {
   "cell_type": "markdown",
   "metadata": {},
   "source": [
    "# Test Update Weight Momentum 2"
   ]
  },
  {
   "cell_type": "code",
   "execution_count": 8,
   "metadata": {},
   "outputs": [
    {
     "name": "stdout",
     "output_type": "stream",
     "text": [
      "[[-0.2  0.1  0.1]\n",
      " [-0.1  0.3  0.1]]\n",
      "[[-0.2  0.1  0.1]\n",
      " [-0.1  0.3  0.1]]\n",
      "[[6.2500e-05 7.5250e-04 8.3500e-04]\n",
      " [1.1250e-04 1.1325e-03 1.2350e-03]]\n",
      "[[-0.1999375  0.1007525  0.100835 ]\n",
      " [-0.0998875  0.3011325  0.101235 ]]\n"
     ]
    }
   ],
   "source": [
    "layer_test_update_weight2 = DenseLayer(2, 'sigmoid', 2, 'uniform', True)\n",
    "layer_test_update_weight2.weight_matrix = np.array([[-0.2, 0.1, 0.1], [-0.1, 0.3, 0.1]])\n",
    "\n",
    "layer_test_update_weight2.delta_weight_matrix_before = np.array([[-0.2, 0.1, 0.1], [-0.1, 0.3, 0.1]])\n",
    "print(layer_test_update_weight2.weight_matrix)\n",
    "print(layer_test_update_weight2.delta_weight_matrix_before)\n",
    "\n",
    "layer_test_update_weight2.update_weight(0.25, [0.0033, 0.0049], [0.1, 0.9, 1], 0.0001)\n",
    "print(layer_test_update_weight2.delta_weight_matrix_before)\n",
    "print(layer_test_update_weight2.weight_matrix)"
   ]
  },
  {
   "cell_type": "markdown",
   "metadata": {},
   "source": [
    "# Test Update Weight Without Momentum TODO"
   ]
  },
  {
   "cell_type": "code",
   "execution_count": null,
   "metadata": {},
   "outputs": [],
   "source": []
  },
  {
   "cell_type": "markdown",
   "metadata": {},
   "source": [
    "# Model Class"
   ]
  },
  {
   "cell_type": "code",
   "execution_count": 9,
   "metadata": {},
   "outputs": [],
   "source": [
    "class LunakModel:\n",
    "    def __init__(self):\n",
    "        return"
   ]
  }
 ],
 "metadata": {
  "kernelspec": {
   "display_name": "Python [conda env:basic]",
   "language": "python",
   "name": "conda-env-basic-py"
  },
  "language_info": {
   "codemirror_mode": {
    "name": "ipython",
    "version": 3
   },
   "file_extension": ".py",
   "mimetype": "text/x-python",
   "name": "python",
   "nbconvert_exporter": "python",
   "pygments_lexer": "ipython3",
   "version": "3.6.5"
  }
 },
 "nbformat": 4,
 "nbformat_minor": 2
}
