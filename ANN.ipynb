{
 "cells": [
  {
   "cell_type": "markdown",
   "metadata": {},
   "source": [
    "# Artificial Neural Network"
   ]
  },
  {
   "cell_type": "markdown",
   "metadata": {},
   "source": [
    "Felix Limanta (13515065), Holy Lovenia (13515113), Agus Gunawan (13515143)"
   ]
  },
  {
   "cell_type": "markdown",
   "metadata": {},
   "source": [
    "## Implementation of ANN"
   ]
  },
  {
   "cell_type": "markdown",
   "metadata": {},
   "source": [
    "Artificial neural network (ANN) is made of interconnected layers of nodes, which is similar to the structures and functions of neurons in human brain."
   ]
  },
  {
   "cell_type": "markdown",
   "metadata": {},
   "source": [
    "Normally, connections between the nodes (neurons) are called as edges. These edges are associated with weights, which will adjust themselves during learning."
   ]
  },
  {
   "cell_type": "markdown",
   "metadata": {},
   "source": [
    "![Artificial neural network](https://icdn5.digitaltrends.com/image/artificial_neural_network_1-791x388.jpg)"
   ]
  },
  {
   "cell_type": "markdown",
   "metadata": {},
   "source": [
    "Nodes are typically grouped into specific layers. Different layers perform different transformations on their inputs. The first layer is regarded as input layer, while the last is output layer. Output layer is used to represent the final outputs as their corresponding predicted classes. Between input and output layer, hidden layers may be present to process the inputs by applying an activation function and produce results according to the needs of output layer.\n",
    "\n",
    "The disconnected nodes in the network are called as bias nodes, which are useful to shift the activation function to the desired direction. Below is an example of network with the presence of bias nodes."
   ]
  },
  {
   "cell_type": "markdown",
   "metadata": {},
   "source": [
    "![Network with bias](http://documentation.statsoft.com/STATISTICAHelp/SANN/Images/mlpdiagram.jpg)"
   ]
  },
  {
   "cell_type": "code",
   "execution_count": 212,
   "metadata": {},
   "outputs": [],
   "source": [
    "from random import random, randint\n",
    "from sklearn.metrics import confusion_matrix, mean_squared_error\n",
    "from sklearn.model_selection import train_test_split\n",
    "from tqdm import tqdm, tnrange, trange, tgrange\n",
    "\n",
    "import math\n",
    "import numpy as np\n",
    "import pandas as pd"
   ]
  },
  {
   "cell_type": "markdown",
   "metadata": {},
   "source": [
    "### Layer implementation"
   ]
  },
  {
   "cell_type": "markdown",
   "metadata": {},
   "source": [
    "In this step, we implement `LunakDense` class to represent the hidden layer and output layer, with parameters as listed below.\n",
    "\n",
    "1. `units`: `int`, the number of nodes in the layer\n",
    "\n",
    "2. `activation`: `'sigmoid'`, activation function\n",
    "\n",
    "3. `input_dim`: `int`, dimension of the input (e.g. 2D, 3D, ...)\n",
    "\n",
    "4. `init`: `'uniform', 'random'`, type of distribution for the initial weight matrix\n",
    "\n",
    "5. `use_bias`: `boolean`, whether there will be bias node present or not (default=`False`)\n",
    "\n",
    "6. `seed`: `int`, the number of random seed (default=`None`)"
   ]
  },
  {
   "cell_type": "markdown",
   "metadata": {},
   "source": [
    "**Propagation function**\n",
    "\n",
    "It computes input $p_j(t)$ to neuron $j$ from the outputs $o_i(t)$ of predecessor neurons and bias $w_{0j}$\n",
    "\n",
    "![Sigma](https://wikimedia.org/api/rest_v1/media/math/render/svg/53a6369d6948c2a582469ed48def95b151953e9d)"
   ]
  },
  {
   "cell_type": "code",
   "execution_count": 211,
   "metadata": {},
   "outputs": [],
   "source": [
    "class LunakDense:\n",
    "    def __init__(self, units, activation, input_dim, init, use_bias=False, seed=None):\n",
    "        self.units = units\n",
    "        self.input_dim = input_dim\n",
    "        \n",
    "        if activation == 'sigmoid':\n",
    "            self.activation_function = self.sigmoid\n",
    "        else:\n",
    "            print('Activation function not supported')\n",
    "        \n",
    "        np.random.seed(seed)\n",
    "        \n",
    "        if init == 'uniform':\n",
    "            self.weight_matrix = np.random.uniform(-0.05, 0.05, size=(self.units, input_dim)) \n",
    "            print(self.weight_matrix)\n",
    "        elif init == 'random':\n",
    "            self.weight_matrix = np.random.random(size=(self.units, input_dim))\n",
    "        else:\n",
    "            print('Init function not supported')\n",
    "        \n",
    "        self.delta_weight_matrix_before = np.zeros((self.units, input_dim))\n",
    "        self.delta_weight_matrix = np.zeros((self.units, input_dim))\n",
    "        \n",
    "        self.use_bias = use_bias\n",
    "        if self.use_bias:\n",
    "            bias = np.zeros((units, 1))\n",
    "            self.weight_matrix = np.hstack((self.weight_matrix, bias))\n",
    "            self.delta_weight_matrix_before = np.hstack((self.delta_weight_matrix_before, np.zeros((units, 1))))\n",
    "            self.delta_weight_matrix = np.hstack((self.delta_weight_matrix, np.zeros((units, 1))))\n",
    "            \n",
    "    def calculate_sigma(self, input_list):\n",
    "        if self.use_bias:\n",
    "            input_list = np.append(input_list, 1)\n",
    "        \n",
    "        result_list = np.array([])\n",
    "        for weight_neuron in self.weight_matrix:\n",
    "            result_list = np.append(result_list, np.dot(weight_neuron, input_list))\n",
    "        return np.array(result_list)\n",
    "    \n",
    "    def calculate_output(self, input_list):\n",
    "        output_list = np.array([])\n",
    "        for sigma_neuron in self.calculate_sigma(input_list):\n",
    "            output_list = np.append(output_list, self.activation_function(sigma_neuron))\n",
    "        self.output_list = output_list\n",
    "        return output_list.copy()\n",
    "    \n",
    "    def calculate_local_gradient_output_layer(self, target_list):\n",
    "        \"\"\"\n",
    "        Use this if the layer is output layer\n",
    "        \"\"\"\n",
    "        result_list = np.array([])\n",
    "        for index, output in enumerate(self.output_list):\n",
    "            local_gradient = output * (1 - output) * (target_list[index] - output)\n",
    "            result_list = np.append(result_list, local_gradient)  \n",
    "        self.local_gradient = result_list\n",
    "        return result_list.copy()\n",
    "    \n",
    "    def calculate_local_gradient_hidden_layer(self, local_gradient_output_list, output_layer_weight_matrix):\n",
    "        \"\"\"\n",
    "        Use this if the layer is hidden layer\n",
    "        \"\"\"\n",
    "        result_list = np.array([])\n",
    "        for index, output in enumerate(self.output_list):\n",
    "            sigma_local_gradient_output = 0\n",
    "            for unit_number, local_gradient in enumerate(local_gradient_output_list):\n",
    "                sigma_local_gradient_output += output_layer_weight_matrix[unit_number][index] * local_gradient\n",
    "            error_hidden = output * (1 - output) * sigma_local_gradient_output\n",
    "            result_list = np.append(result_list, error_hidden)\n",
    "        self.local_gradient = result_list\n",
    "        return result_list.copy()\n",
    "    \n",
    "    def update_delta_weight(self, lr, input_list, momentum=None):\n",
    "        \"\"\"\n",
    "        Function to update delta weight\n",
    "        \"\"\"\n",
    "        if self.use_bias:\n",
    "            input_list = np.append(input_list, 1)\n",
    "        if momentum == None:\n",
    "            for j, unit in enumerate(self.weight_matrix): #j  \n",
    "                for i, source in enumerate(unit): #i\n",
    "                    delta_weight = lr * self.local_gradient[j] * input_list[i]\n",
    "                    self.delta_weight_matrix[j][i] = delta_weight.copy()\n",
    "        else:\n",
    "            for j, unit in enumerate(self.weight_matrix): #j  \n",
    "                for i, source in enumerate(unit): #i\n",
    "                    delta_weight = lr * self.local_gradient[j] * input_list[i] + momentum * self.delta_weight_matrix_before[j][i]\n",
    "                    \n",
    "                    # Update Delta Weight\n",
    "                    self.delta_weight_matrix_before[j][i] = delta_weight.copy()\n",
    "            \n",
    "            # Copy Last Update of Weight Matrix Before (Equal to Last Weight Matrix)\n",
    "            for j, unit in enumerate(self.delta_weight_matrix_before):\n",
    "                for i, source in enumerate(unit):\n",
    "                    self.delta_weight_matrix[j][i] = self.delta_weight_matrix_before[j][i].copy()\n",
    "            \n",
    "    def update_weight(self):\n",
    "        \"\"\"\n",
    "        Function to update weight\n",
    "        \"\"\"\n",
    "        for j, unit in enumerate(self.delta_weight_matrix_before):\n",
    "            for i, source in enumerate(unit):\n",
    "                self.weight_matrix[j][i] += self.delta_weight_matrix[j][i]\n",
    "    \n",
    "    def sigmoid(self, x):\n",
    "        return 1 / (1 + math.exp(-x))"
   ]
  },
  {
   "cell_type": "markdown",
   "metadata": {},
   "source": [
    "### Model implementation"
   ]
  },
  {
   "cell_type": "markdown",
   "metadata": {},
   "source": [
    "ANN model is implemented using stochastic gradient descent (SGD) as the learning rule. SGD is known as a strategy for searching through a large or infinite hypothesis space."
   ]
  },
  {
   "cell_type": "markdown",
   "metadata": {},
   "source": [
    "ANN typically consists of two steps: feed-forward and backpropagation."
   ]
  },
  {
   "cell_type": "markdown",
   "metadata": {},
   "source": [
    "![ANN steps](https://www.researchgate.net/profile/Morteza_Esfandyari/publication/241741756/figure/fig2/AS:298577172680729@1448197753779/Back-propagation-multilayer-ANN-with-one-hidden-layer.png)"
   ]
  },
  {
   "cell_type": "markdown",
   "metadata": {},
   "source": [
    "Feed-forward is used to predict the given inputs based on the weights the network currently has."
   ]
  },
  {
   "cell_type": "markdown",
   "metadata": {},
   "source": [
    "![Feed-forward](https://d18rbf1v22mj88.cloudfront.net/wp-content/uploads/sites/3/2018/03/13094759/neural_networks_fully_connected_layers_gumgum1.gif)"
   ]
  },
  {
   "cell_type": "markdown",
   "metadata": {},
   "source": [
    "Backpropagation is used to calculate the error in each node and update the weights based on the error."
   ]
  },
  {
   "cell_type": "markdown",
   "metadata": {},
   "source": [
    "![Backpropagation](https://raw.githubusercontent.com/mtoto/mtoto.github.io/master/data/2017-11-08-net/result.gif)"
   ]
  },
  {
   "cell_type": "markdown",
   "metadata": {},
   "source": [
    "The algorithm used for the feed-forward and backpropagation is based on [Machine Learning book by Tom Mitchell](https://www.cs.ubbcluj.ro/~gabis/ml/ml-books/McGrawHill%20-%20Machine%20Learning%20-Tom%20Mitchell.pdf) on page 98."
   ]
  },
  {
   "cell_type": "markdown",
   "metadata": {},
   "source": [
    "Parameters used for training (`fit` method).\n",
    "\n",
    "1. `X`: `data`, training data\n",
    "\n",
    "2. `y`: `data`, labels for training data\n",
    "\n",
    "3. `epochs`: `int`, the number of epochs that will be run\n",
    "\n",
    "4. `lr`: `float`, learning rate\n",
    "\n",
    "5. `momentum`: `float`, momentum (used to prevent local minima)\n",
    "\n",
    "6. `batch_size`: `int`, incremental when 1 (default=`len(X)`)\n",
    "\n",
    "7. `val_data`: `(X_val, y_val)`, for validation purposes (default=`None`, will use `val_size`=0.1)\n",
    "\n",
    "8. `val_size`: `float`, used to split X and y to get validation data (default=0)"
   ]
  },
  {
   "cell_type": "code",
   "execution_count": 206,
   "metadata": {},
   "outputs": [],
   "source": [
    "class LunakArtificialNeuralNetwork:\n",
    "    def __init__(self, loss='root_mean_squared', optimizer='sgd'):\n",
    "        assert loss == 'root_mean_squared', 'loss function not supported'\n",
    "        assert optimizer == 'sgd', 'optimizer not supported'\n",
    "        self.layers = []\n",
    "    \n",
    "    def add(self, layer):\n",
    "        self.layers.append(layer)\n",
    "        \n",
    "    def feed_forward(self, X_instance):\n",
    "        # Calculate output with the first hidden layer\n",
    "        output_list = self.layers[0].calculate_output(X_instance)\n",
    "        # Calculate output with the second until the last layer\n",
    "        for layer in self.layers[1:]:\n",
    "            next_output_list = layer.calculate_output(output_list)\n",
    "            output_list = next_output_list\n",
    "        return output_list.copy()\n",
    "            \n",
    "    def backpropagation(self, y_instance):\n",
    "        # Calculate local gradient for output layer\n",
    "        next_local_gradient_list = self.layers[-1].calculate_local_gradient_output_layer([y_instance])\n",
    "        next_layer_weight_matrix = self.layers[-1].weight_matrix\n",
    "\n",
    "        # Calculate local gradient for hidden layer(s)\n",
    "        for layer_idx, layer in enumerate(reversed(self.layers[0:-1])):\n",
    "            next_local_gradient_list = layer.calculate_local_gradient_hidden_layer(next_local_gradient_list, next_layer_weight_matrix)\n",
    "            next_layer_weight_matrix = layer.weight_matrix\n",
    "            \n",
    "    def calculate_delta_weight(self, X_instance, lr, momentum):\n",
    "        # Update delta weight for first hidden layer\n",
    "        self.layers[0].update_delta_weight(lr, X_instance, momentum)\n",
    "        \n",
    "        # Update delta weight for other layers\n",
    "        for layer_idx, layer in enumerate(self.layers[1:]):\n",
    "            layer.update_delta_weight(lr, self.layers[layer_idx].output_list, momentum)\n",
    "    \n",
    "    def fit(self, X, y, epochs, lr, momentum=None, batch_size=None, val_data=None, val_size=0):\n",
    "        assert X.shape[1] == self.layers[0].input_dim, 'Input dimension must be same with the column'\n",
    "        self.classes_ = np.unique(y)\n",
    "        \n",
    "        if batch_size == None:\n",
    "            batch_size = len(X)\n",
    "            \n",
    "        if val_data is None:\n",
    "            val_size = 0.1\n",
    "            X, X_val, y, y_val = train_test_split(X, y, test_size=val_size)\n",
    "        else:\n",
    "            X_val = val_data[0]\n",
    "            y_val = val_data[1]\n",
    "        \n",
    "        if val_data is not None and val_size != 0:\n",
    "            print('Validation data will be used instead of val_size.')\n",
    "            \n",
    "        for epoch in range(epochs):\n",
    "            delta = batch_size\n",
    "            \n",
    "            with tnrange(0, len(X), delta, desc='Epoch {}'.format(epoch + 1)) as pbar:\n",
    "                for start in pbar:\n",
    "                    X_batch = X[start:start+delta]\n",
    "                    y_batch = y[start:start+delta]\n",
    "\n",
    "                    for idx, X_instance in enumerate(X_batch):\n",
    "                        self.feed_forward(X_instance)\n",
    "                        self.backpropagation(y_batch[idx][0])\n",
    "                        self.calculate_delta_weight(X_instance, lr, momentum)\n",
    "\n",
    "                    for layer in self.layers:\n",
    "                        layer.update_weight()\n",
    "\n",
    "                    pred = self.predict(X)\n",
    "                    pred_val = self.predict(X_val)\n",
    "\n",
    "                    acc = self.calculate_accuracy(y, pred)\n",
    "                    val_acc = self.calculate_accuracy(y_val, pred_val)\n",
    "                    loss = mean_squared_error(y, pred)\n",
    "                    val_loss = mean_squared_error(y_val, pred_val)\n",
    "\n",
    "                    postfix = {\n",
    "                        'loss': loss,\n",
    "                        'val_loss': val_loss,\n",
    "                        'acc': acc,\n",
    "                        'val_acc': val_acc}\n",
    "                    pbar.set_postfix(postfix, refresh=True)\n",
    "    \n",
    "    def predict_proba(self, X):\n",
    "        predictions = []\n",
    "        for idx, X_instance in enumerate(X):\n",
    "            X_pred = self.feed_forward(X_instance)\n",
    "            predictions.append([np.mean(X_pred.copy())])\n",
    "        return predictions\n",
    "    \n",
    "    def predict(self, X):\n",
    "        predictions = []\n",
    "        for idx, X_instance in enumerate(X):\n",
    "            X_pred_proba = self.feed_forward(X_instance)\n",
    "            X_pred = min(self.classes_, key=lambda pred_class:abs(pred_class - np.mean(X_pred_proba)))\n",
    "            predictions.append([X_pred.copy()])\n",
    "        return predictions\n",
    "    \n",
    "    def calculate_accuracy(self, y_true, y_pred):\n",
    "        if len(confusion_matrix(y_true, y_pred).ravel()) > 1:\n",
    "            tn, fp, fn, tp = confusion_matrix(y_true, y_pred).ravel()\n",
    "        else:\n",
    "            tp = confusion_matrix(y_true, y_pred).ravel()[0]\n",
    "            fp = 0\n",
    "            fn = 0\n",
    "            tn = 0\n",
    "        return (tp + tn) / (tp + tn + fp + fn)"
   ]
  },
  {
   "cell_type": "markdown",
   "metadata": {},
   "source": [
    "## Data Preparation"
   ]
  },
  {
   "cell_type": "code",
   "execution_count": 19,
   "metadata": {},
   "outputs": [],
   "source": [
    "from scipy.io.arff import loadarff\n",
    "import pandas as pd"
   ]
  },
  {
   "cell_type": "markdown",
   "metadata": {},
   "source": [
    "### Read weather data"
   ]
  },
  {
   "cell_type": "code",
   "execution_count": 20,
   "metadata": {},
   "outputs": [],
   "source": [
    "raw_data = loadarff('dataset/weather.arff')"
   ]
  },
  {
   "cell_type": "code",
   "execution_count": 21,
   "metadata": {},
   "outputs": [],
   "source": [
    "data = pd.DataFrame(raw_data[0])"
   ]
  },
  {
   "cell_type": "code",
   "execution_count": 22,
   "metadata": {},
   "outputs": [
    {
     "data": {
      "text/html": [
       "<div>\n",
       "<style scoped>\n",
       "    .dataframe tbody tr th:only-of-type {\n",
       "        vertical-align: middle;\n",
       "    }\n",
       "\n",
       "    .dataframe tbody tr th {\n",
       "        vertical-align: top;\n",
       "    }\n",
       "\n",
       "    .dataframe thead th {\n",
       "        text-align: right;\n",
       "    }\n",
       "</style>\n",
       "<table border=\"1\" class=\"dataframe\">\n",
       "  <thead>\n",
       "    <tr style=\"text-align: right;\">\n",
       "      <th></th>\n",
       "      <th>outlook</th>\n",
       "      <th>temperature</th>\n",
       "      <th>humidity</th>\n",
       "      <th>windy</th>\n",
       "      <th>play</th>\n",
       "    </tr>\n",
       "  </thead>\n",
       "  <tbody>\n",
       "    <tr>\n",
       "      <th>0</th>\n",
       "      <td>b'sunny'</td>\n",
       "      <td>85.0</td>\n",
       "      <td>85.0</td>\n",
       "      <td>b'FALSE'</td>\n",
       "      <td>b'no'</td>\n",
       "    </tr>\n",
       "    <tr>\n",
       "      <th>1</th>\n",
       "      <td>b'sunny'</td>\n",
       "      <td>80.0</td>\n",
       "      <td>90.0</td>\n",
       "      <td>b'TRUE'</td>\n",
       "      <td>b'no'</td>\n",
       "    </tr>\n",
       "    <tr>\n",
       "      <th>2</th>\n",
       "      <td>b'overcast'</td>\n",
       "      <td>83.0</td>\n",
       "      <td>86.0</td>\n",
       "      <td>b'FALSE'</td>\n",
       "      <td>b'yes'</td>\n",
       "    </tr>\n",
       "    <tr>\n",
       "      <th>3</th>\n",
       "      <td>b'rainy'</td>\n",
       "      <td>70.0</td>\n",
       "      <td>96.0</td>\n",
       "      <td>b'FALSE'</td>\n",
       "      <td>b'yes'</td>\n",
       "    </tr>\n",
       "    <tr>\n",
       "      <th>4</th>\n",
       "      <td>b'rainy'</td>\n",
       "      <td>68.0</td>\n",
       "      <td>80.0</td>\n",
       "      <td>b'FALSE'</td>\n",
       "      <td>b'yes'</td>\n",
       "    </tr>\n",
       "  </tbody>\n",
       "</table>\n",
       "</div>"
      ],
      "text/plain": [
       "       outlook  temperature  humidity     windy    play\n",
       "0     b'sunny'         85.0      85.0  b'FALSE'   b'no'\n",
       "1     b'sunny'         80.0      90.0   b'TRUE'   b'no'\n",
       "2  b'overcast'         83.0      86.0  b'FALSE'  b'yes'\n",
       "3     b'rainy'         70.0      96.0  b'FALSE'  b'yes'\n",
       "4     b'rainy'         68.0      80.0  b'FALSE'  b'yes'"
      ]
     },
     "execution_count": 22,
     "metadata": {},
     "output_type": "execute_result"
    }
   ],
   "source": [
    "data.head()"
   ]
  },
  {
   "cell_type": "markdown",
   "metadata": {},
   "source": [
    "### Preprocessing"
   ]
  },
  {
   "cell_type": "code",
   "execution_count": 23,
   "metadata": {},
   "outputs": [],
   "source": [
    "def convert_to_binary_vector(data):\n",
    "    return pd.get_dummies(data)"
   ]
  },
  {
   "cell_type": "code",
   "execution_count": 24,
   "metadata": {},
   "outputs": [],
   "source": [
    "for idx, column in enumerate(['outlook', 'windy', 'play']):\n",
    "    data[column] = data[column].str.decode('utf-8')"
   ]
  },
  {
   "cell_type": "code",
   "execution_count": 25,
   "metadata": {},
   "outputs": [
    {
     "data": {
      "text/html": [
       "<div>\n",
       "<style scoped>\n",
       "    .dataframe tbody tr th:only-of-type {\n",
       "        vertical-align: middle;\n",
       "    }\n",
       "\n",
       "    .dataframe tbody tr th {\n",
       "        vertical-align: top;\n",
       "    }\n",
       "\n",
       "    .dataframe thead th {\n",
       "        text-align: right;\n",
       "    }\n",
       "</style>\n",
       "<table border=\"1\" class=\"dataframe\">\n",
       "  <thead>\n",
       "    <tr style=\"text-align: right;\">\n",
       "      <th></th>\n",
       "      <th>overcast</th>\n",
       "      <th>rainy</th>\n",
       "      <th>sunny</th>\n",
       "    </tr>\n",
       "  </thead>\n",
       "  <tbody>\n",
       "    <tr>\n",
       "      <th>0</th>\n",
       "      <td>0</td>\n",
       "      <td>0</td>\n",
       "      <td>1</td>\n",
       "    </tr>\n",
       "    <tr>\n",
       "      <th>1</th>\n",
       "      <td>0</td>\n",
       "      <td>0</td>\n",
       "      <td>1</td>\n",
       "    </tr>\n",
       "    <tr>\n",
       "      <th>2</th>\n",
       "      <td>1</td>\n",
       "      <td>0</td>\n",
       "      <td>0</td>\n",
       "    </tr>\n",
       "    <tr>\n",
       "      <th>3</th>\n",
       "      <td>0</td>\n",
       "      <td>1</td>\n",
       "      <td>0</td>\n",
       "    </tr>\n",
       "    <tr>\n",
       "      <th>4</th>\n",
       "      <td>0</td>\n",
       "      <td>1</td>\n",
       "      <td>0</td>\n",
       "    </tr>\n",
       "  </tbody>\n",
       "</table>\n",
       "</div>"
      ],
      "text/plain": [
       "   overcast  rainy  sunny\n",
       "0         0      0      1\n",
       "1         0      0      1\n",
       "2         1      0      0\n",
       "3         0      1      0\n",
       "4         0      1      0"
      ]
     },
     "execution_count": 25,
     "metadata": {},
     "output_type": "execute_result"
    }
   ],
   "source": [
    "bv_outlook = convert_to_binary_vector(data['outlook'])\n",
    "bv_outlook.head()"
   ]
  },
  {
   "cell_type": "code",
   "execution_count": 26,
   "metadata": {},
   "outputs": [
    {
     "data": {
      "text/html": [
       "<div>\n",
       "<style scoped>\n",
       "    .dataframe tbody tr th:only-of-type {\n",
       "        vertical-align: middle;\n",
       "    }\n",
       "\n",
       "    .dataframe tbody tr th {\n",
       "        vertical-align: top;\n",
       "    }\n",
       "\n",
       "    .dataframe thead th {\n",
       "        text-align: right;\n",
       "    }\n",
       "</style>\n",
       "<table border=\"1\" class=\"dataframe\">\n",
       "  <thead>\n",
       "    <tr style=\"text-align: right;\">\n",
       "      <th></th>\n",
       "      <th>FALSE</th>\n",
       "      <th>TRUE</th>\n",
       "    </tr>\n",
       "  </thead>\n",
       "  <tbody>\n",
       "    <tr>\n",
       "      <th>0</th>\n",
       "      <td>1</td>\n",
       "      <td>0</td>\n",
       "    </tr>\n",
       "    <tr>\n",
       "      <th>1</th>\n",
       "      <td>0</td>\n",
       "      <td>1</td>\n",
       "    </tr>\n",
       "    <tr>\n",
       "      <th>2</th>\n",
       "      <td>1</td>\n",
       "      <td>0</td>\n",
       "    </tr>\n",
       "    <tr>\n",
       "      <th>3</th>\n",
       "      <td>1</td>\n",
       "      <td>0</td>\n",
       "    </tr>\n",
       "    <tr>\n",
       "      <th>4</th>\n",
       "      <td>1</td>\n",
       "      <td>0</td>\n",
       "    </tr>\n",
       "  </tbody>\n",
       "</table>\n",
       "</div>"
      ],
      "text/plain": [
       "   FALSE  TRUE\n",
       "0      1     0\n",
       "1      0     1\n",
       "2      1     0\n",
       "3      1     0\n",
       "4      1     0"
      ]
     },
     "execution_count": 26,
     "metadata": {},
     "output_type": "execute_result"
    }
   ],
   "source": [
    "bv_windy = convert_to_binary_vector(data['windy'])\n",
    "bv_windy.head()"
   ]
  },
  {
   "cell_type": "code",
   "execution_count": 27,
   "metadata": {},
   "outputs": [],
   "source": [
    "preproc_data = data.drop('outlook', 1).drop('windy', 1)"
   ]
  },
  {
   "cell_type": "code",
   "execution_count": 28,
   "metadata": {},
   "outputs": [],
   "source": [
    "preproc_data['play'] = preproc_data['play'].astype('category')"
   ]
  },
  {
   "cell_type": "code",
   "execution_count": 29,
   "metadata": {},
   "outputs": [
    {
     "data": {
      "text/html": [
       "<div>\n",
       "<style scoped>\n",
       "    .dataframe tbody tr th:only-of-type {\n",
       "        vertical-align: middle;\n",
       "    }\n",
       "\n",
       "    .dataframe tbody tr th {\n",
       "        vertical-align: top;\n",
       "    }\n",
       "\n",
       "    .dataframe thead th {\n",
       "        text-align: right;\n",
       "    }\n",
       "</style>\n",
       "<table border=\"1\" class=\"dataframe\">\n",
       "  <thead>\n",
       "    <tr style=\"text-align: right;\">\n",
       "      <th></th>\n",
       "      <th>overcast</th>\n",
       "      <th>rainy</th>\n",
       "      <th>sunny</th>\n",
       "      <th>FALSE</th>\n",
       "      <th>TRUE</th>\n",
       "      <th>temperature</th>\n",
       "      <th>humidity</th>\n",
       "      <th>play</th>\n",
       "    </tr>\n",
       "  </thead>\n",
       "  <tbody>\n",
       "    <tr>\n",
       "      <th>0</th>\n",
       "      <td>0</td>\n",
       "      <td>0</td>\n",
       "      <td>1</td>\n",
       "      <td>1</td>\n",
       "      <td>0</td>\n",
       "      <td>85.0</td>\n",
       "      <td>85.0</td>\n",
       "      <td>no</td>\n",
       "    </tr>\n",
       "    <tr>\n",
       "      <th>1</th>\n",
       "      <td>0</td>\n",
       "      <td>0</td>\n",
       "      <td>1</td>\n",
       "      <td>0</td>\n",
       "      <td>1</td>\n",
       "      <td>80.0</td>\n",
       "      <td>90.0</td>\n",
       "      <td>no</td>\n",
       "    </tr>\n",
       "    <tr>\n",
       "      <th>2</th>\n",
       "      <td>1</td>\n",
       "      <td>0</td>\n",
       "      <td>0</td>\n",
       "      <td>1</td>\n",
       "      <td>0</td>\n",
       "      <td>83.0</td>\n",
       "      <td>86.0</td>\n",
       "      <td>yes</td>\n",
       "    </tr>\n",
       "    <tr>\n",
       "      <th>3</th>\n",
       "      <td>0</td>\n",
       "      <td>1</td>\n",
       "      <td>0</td>\n",
       "      <td>1</td>\n",
       "      <td>0</td>\n",
       "      <td>70.0</td>\n",
       "      <td>96.0</td>\n",
       "      <td>yes</td>\n",
       "    </tr>\n",
       "    <tr>\n",
       "      <th>4</th>\n",
       "      <td>0</td>\n",
       "      <td>1</td>\n",
       "      <td>0</td>\n",
       "      <td>1</td>\n",
       "      <td>0</td>\n",
       "      <td>68.0</td>\n",
       "      <td>80.0</td>\n",
       "      <td>yes</td>\n",
       "    </tr>\n",
       "  </tbody>\n",
       "</table>\n",
       "</div>"
      ],
      "text/plain": [
       "   overcast  rainy  sunny  FALSE  TRUE  temperature  humidity play\n",
       "0         0      0      1      1     0         85.0      85.0   no\n",
       "1         0      0      1      0     1         80.0      90.0   no\n",
       "2         1      0      0      1     0         83.0      86.0  yes\n",
       "3         0      1      0      1     0         70.0      96.0  yes\n",
       "4         0      1      0      1     0         68.0      80.0  yes"
      ]
     },
     "execution_count": 29,
     "metadata": {},
     "output_type": "execute_result"
    }
   ],
   "source": [
    "preprocessed_data = pd.concat([bv_outlook, bv_windy, preproc_data], axis=1)\n",
    "preprocessed_data.head()"
   ]
  },
  {
   "cell_type": "code",
   "execution_count": 30,
   "metadata": {},
   "outputs": [
    {
     "data": {
      "text/html": [
       "<div>\n",
       "<style scoped>\n",
       "    .dataframe tbody tr th:only-of-type {\n",
       "        vertical-align: middle;\n",
       "    }\n",
       "\n",
       "    .dataframe tbody tr th {\n",
       "        vertical-align: top;\n",
       "    }\n",
       "\n",
       "    .dataframe thead th {\n",
       "        text-align: right;\n",
       "    }\n",
       "</style>\n",
       "<table border=\"1\" class=\"dataframe\">\n",
       "  <thead>\n",
       "    <tr style=\"text-align: right;\">\n",
       "      <th></th>\n",
       "      <th>play</th>\n",
       "    </tr>\n",
       "  </thead>\n",
       "  <tbody>\n",
       "    <tr>\n",
       "      <th>0</th>\n",
       "      <td>0</td>\n",
       "    </tr>\n",
       "    <tr>\n",
       "      <th>1</th>\n",
       "      <td>0</td>\n",
       "    </tr>\n",
       "    <tr>\n",
       "      <th>2</th>\n",
       "      <td>1</td>\n",
       "    </tr>\n",
       "    <tr>\n",
       "      <th>3</th>\n",
       "      <td>1</td>\n",
       "    </tr>\n",
       "    <tr>\n",
       "      <th>4</th>\n",
       "      <td>1</td>\n",
       "    </tr>\n",
       "  </tbody>\n",
       "</table>\n",
       "</div>"
      ],
      "text/plain": [
       "   play\n",
       "0     0\n",
       "1     0\n",
       "2     1\n",
       "3     1\n",
       "4     1"
      ]
     },
     "execution_count": 30,
     "metadata": {},
     "output_type": "execute_result"
    }
   ],
   "source": [
    "y = pd.DataFrame({'play': preprocessed_data['play'].cat.codes})\n",
    "y.head()"
   ]
  },
  {
   "cell_type": "code",
   "execution_count": 31,
   "metadata": {},
   "outputs": [],
   "source": [
    "X = preprocessed_data.drop('play', 1)"
   ]
  },
  {
   "cell_type": "code",
   "execution_count": 32,
   "metadata": {},
   "outputs": [],
   "source": [
    "for column in X.columns:\n",
    "    X[column] = X[column].astype('float')"
   ]
  },
  {
   "cell_type": "code",
   "execution_count": 33,
   "metadata": {},
   "outputs": [
    {
     "data": {
      "text/html": [
       "<div>\n",
       "<style scoped>\n",
       "    .dataframe tbody tr th:only-of-type {\n",
       "        vertical-align: middle;\n",
       "    }\n",
       "\n",
       "    .dataframe tbody tr th {\n",
       "        vertical-align: top;\n",
       "    }\n",
       "\n",
       "    .dataframe thead th {\n",
       "        text-align: right;\n",
       "    }\n",
       "</style>\n",
       "<table border=\"1\" class=\"dataframe\">\n",
       "  <thead>\n",
       "    <tr style=\"text-align: right;\">\n",
       "      <th></th>\n",
       "      <th>overcast</th>\n",
       "      <th>rainy</th>\n",
       "      <th>sunny</th>\n",
       "      <th>FALSE</th>\n",
       "      <th>TRUE</th>\n",
       "      <th>temperature</th>\n",
       "      <th>humidity</th>\n",
       "    </tr>\n",
       "  </thead>\n",
       "  <tbody>\n",
       "    <tr>\n",
       "      <th>0</th>\n",
       "      <td>0.0</td>\n",
       "      <td>0.0</td>\n",
       "      <td>1.0</td>\n",
       "      <td>1.0</td>\n",
       "      <td>0.0</td>\n",
       "      <td>85.0</td>\n",
       "      <td>85.0</td>\n",
       "    </tr>\n",
       "    <tr>\n",
       "      <th>1</th>\n",
       "      <td>0.0</td>\n",
       "      <td>0.0</td>\n",
       "      <td>1.0</td>\n",
       "      <td>0.0</td>\n",
       "      <td>1.0</td>\n",
       "      <td>80.0</td>\n",
       "      <td>90.0</td>\n",
       "    </tr>\n",
       "    <tr>\n",
       "      <th>2</th>\n",
       "      <td>1.0</td>\n",
       "      <td>0.0</td>\n",
       "      <td>0.0</td>\n",
       "      <td>1.0</td>\n",
       "      <td>0.0</td>\n",
       "      <td>83.0</td>\n",
       "      <td>86.0</td>\n",
       "    </tr>\n",
       "    <tr>\n",
       "      <th>3</th>\n",
       "      <td>0.0</td>\n",
       "      <td>1.0</td>\n",
       "      <td>0.0</td>\n",
       "      <td>1.0</td>\n",
       "      <td>0.0</td>\n",
       "      <td>70.0</td>\n",
       "      <td>96.0</td>\n",
       "    </tr>\n",
       "    <tr>\n",
       "      <th>4</th>\n",
       "      <td>0.0</td>\n",
       "      <td>1.0</td>\n",
       "      <td>0.0</td>\n",
       "      <td>1.0</td>\n",
       "      <td>0.0</td>\n",
       "      <td>68.0</td>\n",
       "      <td>80.0</td>\n",
       "    </tr>\n",
       "  </tbody>\n",
       "</table>\n",
       "</div>"
      ],
      "text/plain": [
       "   overcast  rainy  sunny  FALSE  TRUE  temperature  humidity\n",
       "0       0.0    0.0    1.0    1.0   0.0         85.0      85.0\n",
       "1       0.0    0.0    1.0    0.0   1.0         80.0      90.0\n",
       "2       1.0    0.0    0.0    1.0   0.0         83.0      86.0\n",
       "3       0.0    1.0    0.0    1.0   0.0         70.0      96.0\n",
       "4       0.0    1.0    0.0    1.0   0.0         68.0      80.0"
      ]
     },
     "execution_count": 33,
     "metadata": {},
     "output_type": "execute_result"
    }
   ],
   "source": [
    "X.head()"
   ]
  },
  {
   "cell_type": "code",
   "execution_count": 34,
   "metadata": {},
   "outputs": [],
   "source": [
    "y = y.astype('float')"
   ]
  },
  {
   "cell_type": "code",
   "execution_count": 35,
   "metadata": {},
   "outputs": [],
   "source": [
    "X = np.array(X)\n",
    "y_new = [instance_y[0] for instance_y in np.array(y)]\n",
    "y = np.array(y)"
   ]
  },
  {
   "cell_type": "code",
   "execution_count": 36,
   "metadata": {},
   "outputs": [
    {
     "data": {
      "text/plain": [
       "array([[ 0.,  0.,  1.,  1.,  0., 85., 85.],\n",
       "       [ 0.,  0.,  1.,  0.,  1., 80., 90.],\n",
       "       [ 1.,  0.,  0.,  1.,  0., 83., 86.],\n",
       "       [ 0.,  1.,  0.,  1.,  0., 70., 96.],\n",
       "       [ 0.,  1.,  0.,  1.,  0., 68., 80.],\n",
       "       [ 0.,  1.,  0.,  0.,  1., 65., 70.],\n",
       "       [ 1.,  0.,  0.,  0.,  1., 64., 65.],\n",
       "       [ 0.,  0.,  1.,  1.,  0., 72., 95.],\n",
       "       [ 0.,  0.,  1.,  1.,  0., 69., 70.],\n",
       "       [ 0.,  1.,  0.,  1.,  0., 75., 80.],\n",
       "       [ 0.,  0.,  1.,  0.,  1., 75., 70.],\n",
       "       [ 1.,  0.,  0.,  0.,  1., 72., 90.],\n",
       "       [ 1.,  0.,  0.,  1.,  0., 81., 75.],\n",
       "       [ 0.,  1.,  0.,  0.,  1., 71., 91.]])"
      ]
     },
     "execution_count": 36,
     "metadata": {},
     "output_type": "execute_result"
    }
   ],
   "source": [
    "X"
   ]
  },
  {
   "cell_type": "code",
   "execution_count": 37,
   "metadata": {},
   "outputs": [
    {
     "data": {
      "text/plain": [
       "array([[0.],\n",
       "       [0.],\n",
       "       [1.],\n",
       "       [1.],\n",
       "       [1.],\n",
       "       [0.],\n",
       "       [1.],\n",
       "       [0.],\n",
       "       [1.],\n",
       "       [1.],\n",
       "       [1.],\n",
       "       [1.],\n",
       "       [1.],\n",
       "       [0.]])"
      ]
     },
     "execution_count": 37,
     "metadata": {},
     "output_type": "execute_result"
    }
   ],
   "source": [
    "y"
   ]
  },
  {
   "cell_type": "markdown",
   "metadata": {},
   "source": [
    "## Artificial neural network experiment"
   ]
  },
  {
   "cell_type": "markdown",
   "metadata": {},
   "source": [
    "### Lunak"
   ]
  },
  {
   "cell_type": "code",
   "execution_count": 207,
   "metadata": {},
   "outputs": [],
   "source": [
    "lunak_ann = LunakArtificialNeuralNetwork()"
   ]
  },
  {
   "cell_type": "code",
   "execution_count": 208,
   "metadata": {},
   "outputs": [
    {
     "name": "stdout",
     "output_type": "stream",
     "text": [
      "[[-0.02780068  0.03707323 -0.02932808  0.04186109 -0.00115888  0.01117439\n",
      "   0.02659079]\n",
      " [ 0.0018418  -0.02031995 -0.03122788 -0.04192587  0.02384403 -0.00586908\n",
      "  -0.03416901]]\n",
      "[[-0.02780068  0.03707323]]\n"
     ]
    }
   ],
   "source": [
    "lunak_ann.add(LunakDense(2, 'sigmoid', 7, 'uniform', False, seed=5))\n",
    "lunak_ann.add(LunakDense(1, 'sigmoid', 2, 'uniform', False, seed=5))"
   ]
  },
  {
   "cell_type": "code",
   "execution_count": 209,
   "metadata": {},
   "outputs": [
    {
     "data": {
      "application/vnd.jupyter.widget-view+json": {
       "model_id": "67c5dee1ce3f4764b459839d8584918a",
       "version_major": 2,
       "version_minor": 0
      },
      "text/plain": [
       "HBox(children=(IntProgress(value=0, description='Epoch 1', max=6, style=ProgressStyle(description_width='initi…"
      ]
     },
     "metadata": {},
     "output_type": "display_data"
    },
    {
     "name": "stdout",
     "output_type": "stream",
     "text": [
      "\n"
     ]
    },
    {
     "data": {
      "application/vnd.jupyter.widget-view+json": {
       "model_id": "95584ec3479f419daa8c6e3b74f0022c",
       "version_major": 2,
       "version_minor": 0
      },
      "text/plain": [
       "HBox(children=(IntProgress(value=0, description='Epoch 2', max=6, style=ProgressStyle(description_width='initi…"
      ]
     },
     "metadata": {},
     "output_type": "display_data"
    },
    {
     "name": "stdout",
     "output_type": "stream",
     "text": [
      "\n"
     ]
    },
    {
     "data": {
      "application/vnd.jupyter.widget-view+json": {
       "model_id": "8cc602455ade41148fb6607a0be61241",
       "version_major": 2,
       "version_minor": 0
      },
      "text/plain": [
       "HBox(children=(IntProgress(value=0, description='Epoch 3', max=6, style=ProgressStyle(description_width='initi…"
      ]
     },
     "metadata": {},
     "output_type": "display_data"
    },
    {
     "name": "stdout",
     "output_type": "stream",
     "text": [
      "\n"
     ]
    },
    {
     "data": {
      "application/vnd.jupyter.widget-view+json": {
       "model_id": "b3a43a3f6d5e49d3a694a6810114af45",
       "version_major": 2,
       "version_minor": 0
      },
      "text/plain": [
       "HBox(children=(IntProgress(value=0, description='Epoch 4', max=6, style=ProgressStyle(description_width='initi…"
      ]
     },
     "metadata": {},
     "output_type": "display_data"
    },
    {
     "name": "stdout",
     "output_type": "stream",
     "text": [
      "\n"
     ]
    },
    {
     "data": {
      "application/vnd.jupyter.widget-view+json": {
       "model_id": "563050b66fe649588abbb38619a3d8fe",
       "version_major": 2,
       "version_minor": 0
      },
      "text/plain": [
       "HBox(children=(IntProgress(value=0, description='Epoch 5', max=6, style=ProgressStyle(description_width='initi…"
      ]
     },
     "metadata": {},
     "output_type": "display_data"
    },
    {
     "name": "stdout",
     "output_type": "stream",
     "text": [
      "\n"
     ]
    },
    {
     "data": {
      "application/vnd.jupyter.widget-view+json": {
       "model_id": "2032213b323547918987a17a0b9989b3",
       "version_major": 2,
       "version_minor": 0
      },
      "text/plain": [
       "HBox(children=(IntProgress(value=0, description='Epoch 6', max=6, style=ProgressStyle(description_width='initi…"
      ]
     },
     "metadata": {},
     "output_type": "display_data"
    },
    {
     "name": "stdout",
     "output_type": "stream",
     "text": [
      "\n"
     ]
    },
    {
     "data": {
      "application/vnd.jupyter.widget-view+json": {
       "model_id": "ee504ef8feb744798a6b893a99df4aed",
       "version_major": 2,
       "version_minor": 0
      },
      "text/plain": [
       "HBox(children=(IntProgress(value=0, description='Epoch 7', max=6, style=ProgressStyle(description_width='initi…"
      ]
     },
     "metadata": {},
     "output_type": "display_data"
    },
    {
     "name": "stdout",
     "output_type": "stream",
     "text": [
      "\n"
     ]
    },
    {
     "data": {
      "application/vnd.jupyter.widget-view+json": {
       "model_id": "a7104044ff4a44129165f2a5f4196655",
       "version_major": 2,
       "version_minor": 0
      },
      "text/plain": [
       "HBox(children=(IntProgress(value=0, description='Epoch 8', max=6, style=ProgressStyle(description_width='initi…"
      ]
     },
     "metadata": {},
     "output_type": "display_data"
    },
    {
     "name": "stdout",
     "output_type": "stream",
     "text": [
      "\n"
     ]
    },
    {
     "data": {
      "application/vnd.jupyter.widget-view+json": {
       "model_id": "555e380e391f441bb225f4fab37c4f88",
       "version_major": 2,
       "version_minor": 0
      },
      "text/plain": [
       "HBox(children=(IntProgress(value=0, description='Epoch 9', max=6, style=ProgressStyle(description_width='initi…"
      ]
     },
     "metadata": {},
     "output_type": "display_data"
    },
    {
     "name": "stdout",
     "output_type": "stream",
     "text": [
      "\n"
     ]
    },
    {
     "data": {
      "application/vnd.jupyter.widget-view+json": {
       "model_id": "aad6a66dc71e4f43b06113a509cc3271",
       "version_major": 2,
       "version_minor": 0
      },
      "text/plain": [
       "HBox(children=(IntProgress(value=0, description='Epoch 10', max=6, style=ProgressStyle(description_width='init…"
      ]
     },
     "metadata": {},
     "output_type": "display_data"
    },
    {
     "name": "stdout",
     "output_type": "stream",
     "text": [
      "\n"
     ]
    },
    {
     "data": {
      "application/vnd.jupyter.widget-view+json": {
       "model_id": "03b99616bbc64a1d8bf024b30e708d2e",
       "version_major": 2,
       "version_minor": 0
      },
      "text/plain": [
       "HBox(children=(IntProgress(value=0, description='Epoch 11', max=6, style=ProgressStyle(description_width='init…"
      ]
     },
     "metadata": {},
     "output_type": "display_data"
    },
    {
     "name": "stdout",
     "output_type": "stream",
     "text": [
      "\n"
     ]
    },
    {
     "data": {
      "application/vnd.jupyter.widget-view+json": {
       "model_id": "aa6d667257d445f5b7a982dc52571d89",
       "version_major": 2,
       "version_minor": 0
      },
      "text/plain": [
       "HBox(children=(IntProgress(value=0, description='Epoch 12', max=6, style=ProgressStyle(description_width='init…"
      ]
     },
     "metadata": {},
     "output_type": "display_data"
    },
    {
     "name": "stdout",
     "output_type": "stream",
     "text": [
      "\n"
     ]
    },
    {
     "data": {
      "application/vnd.jupyter.widget-view+json": {
       "model_id": "9e1847469a014e08afec26acd60dedfe",
       "version_major": 2,
       "version_minor": 0
      },
      "text/plain": [
       "HBox(children=(IntProgress(value=0, description='Epoch 13', max=6, style=ProgressStyle(description_width='init…"
      ]
     },
     "metadata": {},
     "output_type": "display_data"
    },
    {
     "name": "stdout",
     "output_type": "stream",
     "text": [
      "\n"
     ]
    },
    {
     "data": {
      "application/vnd.jupyter.widget-view+json": {
       "model_id": "b048c95a72734454a9b23681b2c7dea9",
       "version_major": 2,
       "version_minor": 0
      },
      "text/plain": [
       "HBox(children=(IntProgress(value=0, description='Epoch 14', max=6, style=ProgressStyle(description_width='init…"
      ]
     },
     "metadata": {},
     "output_type": "display_data"
    },
    {
     "name": "stdout",
     "output_type": "stream",
     "text": [
      "\n"
     ]
    },
    {
     "data": {
      "application/vnd.jupyter.widget-view+json": {
       "model_id": "b0fa8a23739140d8a0ebefb9b1aa5874",
       "version_major": 2,
       "version_minor": 0
      },
      "text/plain": [
       "HBox(children=(IntProgress(value=0, description='Epoch 15', max=6, style=ProgressStyle(description_width='init…"
      ]
     },
     "metadata": {},
     "output_type": "display_data"
    },
    {
     "name": "stdout",
     "output_type": "stream",
     "text": [
      "\n"
     ]
    },
    {
     "data": {
      "application/vnd.jupyter.widget-view+json": {
       "model_id": "3d1e590455c248278583c83992a159dc",
       "version_major": 2,
       "version_minor": 0
      },
      "text/plain": [
       "HBox(children=(IntProgress(value=0, description='Epoch 16', max=6, style=ProgressStyle(description_width='init…"
      ]
     },
     "metadata": {},
     "output_type": "display_data"
    },
    {
     "name": "stdout",
     "output_type": "stream",
     "text": [
      "\n"
     ]
    },
    {
     "data": {
      "application/vnd.jupyter.widget-view+json": {
       "model_id": "14fd249a4cf44c2488bc68b05664cc9c",
       "version_major": 2,
       "version_minor": 0
      },
      "text/plain": [
       "HBox(children=(IntProgress(value=0, description='Epoch 17', max=6, style=ProgressStyle(description_width='init…"
      ]
     },
     "metadata": {},
     "output_type": "display_data"
    },
    {
     "name": "stdout",
     "output_type": "stream",
     "text": [
      "\n"
     ]
    },
    {
     "data": {
      "application/vnd.jupyter.widget-view+json": {
       "model_id": "d7955b75500946f8b2688744dc0f340d",
       "version_major": 2,
       "version_minor": 0
      },
      "text/plain": [
       "HBox(children=(IntProgress(value=0, description='Epoch 18', max=6, style=ProgressStyle(description_width='init…"
      ]
     },
     "metadata": {},
     "output_type": "display_data"
    },
    {
     "name": "stdout",
     "output_type": "stream",
     "text": [
      "\n"
     ]
    },
    {
     "data": {
      "application/vnd.jupyter.widget-view+json": {
       "model_id": "a9459eff5340458f8b18c53e5c5d1975",
       "version_major": 2,
       "version_minor": 0
      },
      "text/plain": [
       "HBox(children=(IntProgress(value=0, description='Epoch 19', max=6, style=ProgressStyle(description_width='init…"
      ]
     },
     "metadata": {},
     "output_type": "display_data"
    },
    {
     "name": "stdout",
     "output_type": "stream",
     "text": [
      "\n"
     ]
    },
    {
     "data": {
      "application/vnd.jupyter.widget-view+json": {
       "model_id": "f5b52726245a4a40973f051e0ce3b0f4",
       "version_major": 2,
       "version_minor": 0
      },
      "text/plain": [
       "HBox(children=(IntProgress(value=0, description='Epoch 20', max=6, style=ProgressStyle(description_width='init…"
      ]
     },
     "metadata": {},
     "output_type": "display_data"
    },
    {
     "name": "stdout",
     "output_type": "stream",
     "text": [
      "\n"
     ]
    },
    {
     "data": {
      "application/vnd.jupyter.widget-view+json": {
       "model_id": "d35b3668fa8744e6928c75ea2c3bc316",
       "version_major": 2,
       "version_minor": 0
      },
      "text/plain": [
       "HBox(children=(IntProgress(value=0, description='Epoch 21', max=6, style=ProgressStyle(description_width='init…"
      ]
     },
     "metadata": {},
     "output_type": "display_data"
    },
    {
     "name": "stdout",
     "output_type": "stream",
     "text": [
      "\n"
     ]
    },
    {
     "data": {
      "application/vnd.jupyter.widget-view+json": {
       "model_id": "f0fca4f12ca14337aa097f5bf3b431c5",
       "version_major": 2,
       "version_minor": 0
      },
      "text/plain": [
       "HBox(children=(IntProgress(value=0, description='Epoch 22', max=6, style=ProgressStyle(description_width='init…"
      ]
     },
     "metadata": {},
     "output_type": "display_data"
    },
    {
     "name": "stdout",
     "output_type": "stream",
     "text": [
      "\n"
     ]
    },
    {
     "data": {
      "application/vnd.jupyter.widget-view+json": {
       "model_id": "beb73479a74842d7bd5343e25301166b",
       "version_major": 2,
       "version_minor": 0
      },
      "text/plain": [
       "HBox(children=(IntProgress(value=0, description='Epoch 23', max=6, style=ProgressStyle(description_width='init…"
      ]
     },
     "metadata": {},
     "output_type": "display_data"
    },
    {
     "name": "stdout",
     "output_type": "stream",
     "text": [
      "\n"
     ]
    },
    {
     "data": {
      "application/vnd.jupyter.widget-view+json": {
       "model_id": "aa9bcc5daf51476d8bad9ff092de5b68",
       "version_major": 2,
       "version_minor": 0
      },
      "text/plain": [
       "HBox(children=(IntProgress(value=0, description='Epoch 24', max=6, style=ProgressStyle(description_width='init…"
      ]
     },
     "metadata": {},
     "output_type": "display_data"
    },
    {
     "name": "stdout",
     "output_type": "stream",
     "text": [
      "\n"
     ]
    },
    {
     "data": {
      "application/vnd.jupyter.widget-view+json": {
       "model_id": "d181bd21483840aaad7b7d8543640d16",
       "version_major": 2,
       "version_minor": 0
      },
      "text/plain": [
       "HBox(children=(IntProgress(value=0, description='Epoch 25', max=6, style=ProgressStyle(description_width='init…"
      ]
     },
     "metadata": {},
     "output_type": "display_data"
    },
    {
     "name": "stdout",
     "output_type": "stream",
     "text": [
      "\n"
     ]
    },
    {
     "data": {
      "application/vnd.jupyter.widget-view+json": {
       "model_id": "468cc0d7347c4d20ada54405c2fa9509",
       "version_major": 2,
       "version_minor": 0
      },
      "text/plain": [
       "HBox(children=(IntProgress(value=0, description='Epoch 26', max=6, style=ProgressStyle(description_width='init…"
      ]
     },
     "metadata": {},
     "output_type": "display_data"
    },
    {
     "name": "stdout",
     "output_type": "stream",
     "text": [
      "\n"
     ]
    },
    {
     "data": {
      "application/vnd.jupyter.widget-view+json": {
       "model_id": "21863aa34e1e4fefaae4294d45ad679a",
       "version_major": 2,
       "version_minor": 0
      },
      "text/plain": [
       "HBox(children=(IntProgress(value=0, description='Epoch 27', max=6, style=ProgressStyle(description_width='init…"
      ]
     },
     "metadata": {},
     "output_type": "display_data"
    },
    {
     "name": "stdout",
     "output_type": "stream",
     "text": [
      "\n"
     ]
    },
    {
     "data": {
      "application/vnd.jupyter.widget-view+json": {
       "model_id": "c462c9f7e7554c8da89f315bcff5914d",
       "version_major": 2,
       "version_minor": 0
      },
      "text/plain": [
       "HBox(children=(IntProgress(value=0, description='Epoch 28', max=6, style=ProgressStyle(description_width='init…"
      ]
     },
     "metadata": {},
     "output_type": "display_data"
    },
    {
     "name": "stdout",
     "output_type": "stream",
     "text": [
      "\n"
     ]
    },
    {
     "data": {
      "application/vnd.jupyter.widget-view+json": {
       "model_id": "bab2e2d0ebf74fb39bf886572ba9513e",
       "version_major": 2,
       "version_minor": 0
      },
      "text/plain": [
       "HBox(children=(IntProgress(value=0, description='Epoch 29', max=6, style=ProgressStyle(description_width='init…"
      ]
     },
     "metadata": {},
     "output_type": "display_data"
    },
    {
     "name": "stdout",
     "output_type": "stream",
     "text": [
      "\n"
     ]
    },
    {
     "data": {
      "application/vnd.jupyter.widget-view+json": {
       "model_id": "82528e6cda634605845aeb41667d014d",
       "version_major": 2,
       "version_minor": 0
      },
      "text/plain": [
       "HBox(children=(IntProgress(value=0, description='Epoch 30', max=6, style=ProgressStyle(description_width='init…"
      ]
     },
     "metadata": {},
     "output_type": "display_data"
    },
    {
     "name": "stdout",
     "output_type": "stream",
     "text": [
      "\n"
     ]
    },
    {
     "data": {
      "application/vnd.jupyter.widget-view+json": {
       "model_id": "0f70d95d62114d75b95c6d8afbf9e9a1",
       "version_major": 2,
       "version_minor": 0
      },
      "text/plain": [
       "HBox(children=(IntProgress(value=0, description='Epoch 31', max=6, style=ProgressStyle(description_width='init…"
      ]
     },
     "metadata": {},
     "output_type": "display_data"
    },
    {
     "name": "stdout",
     "output_type": "stream",
     "text": [
      "\n"
     ]
    },
    {
     "data": {
      "application/vnd.jupyter.widget-view+json": {
       "model_id": "f7a6bf99c98c454892786d21f18e5974",
       "version_major": 2,
       "version_minor": 0
      },
      "text/plain": [
       "HBox(children=(IntProgress(value=0, description='Epoch 32', max=6, style=ProgressStyle(description_width='init…"
      ]
     },
     "metadata": {},
     "output_type": "display_data"
    },
    {
     "name": "stdout",
     "output_type": "stream",
     "text": [
      "\n"
     ]
    },
    {
     "data": {
      "application/vnd.jupyter.widget-view+json": {
       "model_id": "3bee9ce0c121494680cb78dc9e802249",
       "version_major": 2,
       "version_minor": 0
      },
      "text/plain": [
       "HBox(children=(IntProgress(value=0, description='Epoch 33', max=6, style=ProgressStyle(description_width='init…"
      ]
     },
     "metadata": {},
     "output_type": "display_data"
    },
    {
     "name": "stdout",
     "output_type": "stream",
     "text": [
      "\n"
     ]
    },
    {
     "data": {
      "application/vnd.jupyter.widget-view+json": {
       "model_id": "192599adc9174011be1fbe52094db7c5",
       "version_major": 2,
       "version_minor": 0
      },
      "text/plain": [
       "HBox(children=(IntProgress(value=0, description='Epoch 34', max=6, style=ProgressStyle(description_width='init…"
      ]
     },
     "metadata": {},
     "output_type": "display_data"
    },
    {
     "name": "stdout",
     "output_type": "stream",
     "text": [
      "\n"
     ]
    },
    {
     "data": {
      "application/vnd.jupyter.widget-view+json": {
       "model_id": "301c6f8547374f81a1707e679645ad70",
       "version_major": 2,
       "version_minor": 0
      },
      "text/plain": [
       "HBox(children=(IntProgress(value=0, description='Epoch 35', max=6, style=ProgressStyle(description_width='init…"
      ]
     },
     "metadata": {},
     "output_type": "display_data"
    },
    {
     "name": "stdout",
     "output_type": "stream",
     "text": [
      "\n"
     ]
    },
    {
     "data": {
      "application/vnd.jupyter.widget-view+json": {
       "model_id": "e8ac82d7ac5b44e1b157600e4b3e160f",
       "version_major": 2,
       "version_minor": 0
      },
      "text/plain": [
       "HBox(children=(IntProgress(value=0, description='Epoch 36', max=6, style=ProgressStyle(description_width='init…"
      ]
     },
     "metadata": {},
     "output_type": "display_data"
    },
    {
     "name": "stdout",
     "output_type": "stream",
     "text": [
      "\n"
     ]
    },
    {
     "data": {
      "application/vnd.jupyter.widget-view+json": {
       "model_id": "ad07a73559c74302977e3cc0353d2fd3",
       "version_major": 2,
       "version_minor": 0
      },
      "text/plain": [
       "HBox(children=(IntProgress(value=0, description='Epoch 37', max=6, style=ProgressStyle(description_width='init…"
      ]
     },
     "metadata": {},
     "output_type": "display_data"
    },
    {
     "name": "stdout",
     "output_type": "stream",
     "text": [
      "\n"
     ]
    },
    {
     "data": {
      "application/vnd.jupyter.widget-view+json": {
       "model_id": "540950b99af04c78bbf6f51f1c8ce221",
       "version_major": 2,
       "version_minor": 0
      },
      "text/plain": [
       "HBox(children=(IntProgress(value=0, description='Epoch 38', max=6, style=ProgressStyle(description_width='init…"
      ]
     },
     "metadata": {},
     "output_type": "display_data"
    },
    {
     "name": "stdout",
     "output_type": "stream",
     "text": [
      "\n"
     ]
    },
    {
     "data": {
      "application/vnd.jupyter.widget-view+json": {
       "model_id": "431ce5798b9943e2bf87de9e55a916be",
       "version_major": 2,
       "version_minor": 0
      },
      "text/plain": [
       "HBox(children=(IntProgress(value=0, description='Epoch 39', max=6, style=ProgressStyle(description_width='init…"
      ]
     },
     "metadata": {},
     "output_type": "display_data"
    },
    {
     "name": "stdout",
     "output_type": "stream",
     "text": [
      "\n"
     ]
    },
    {
     "data": {
      "application/vnd.jupyter.widget-view+json": {
       "model_id": "5a2aadf7e5f9487eb6630f3fa5b1ab4d",
       "version_major": 2,
       "version_minor": 0
      },
      "text/plain": [
       "HBox(children=(IntProgress(value=0, description='Epoch 40', max=6, style=ProgressStyle(description_width='init…"
      ]
     },
     "metadata": {},
     "output_type": "display_data"
    },
    {
     "name": "stdout",
     "output_type": "stream",
     "text": [
      "\n"
     ]
    },
    {
     "data": {
      "application/vnd.jupyter.widget-view+json": {
       "model_id": "4b14a61623be4592b218198bc842cf57",
       "version_major": 2,
       "version_minor": 0
      },
      "text/plain": [
       "HBox(children=(IntProgress(value=0, description='Epoch 41', max=6, style=ProgressStyle(description_width='init…"
      ]
     },
     "metadata": {},
     "output_type": "display_data"
    },
    {
     "name": "stdout",
     "output_type": "stream",
     "text": [
      "\n"
     ]
    },
    {
     "data": {
      "application/vnd.jupyter.widget-view+json": {
       "model_id": "9f6da62899b141548b37e59c19d8d08d",
       "version_major": 2,
       "version_minor": 0
      },
      "text/plain": [
       "HBox(children=(IntProgress(value=0, description='Epoch 42', max=6, style=ProgressStyle(description_width='init…"
      ]
     },
     "metadata": {},
     "output_type": "display_data"
    },
    {
     "name": "stdout",
     "output_type": "stream",
     "text": [
      "\n"
     ]
    },
    {
     "data": {
      "application/vnd.jupyter.widget-view+json": {
       "model_id": "40d1765002964d7d976f8fa3729e131e",
       "version_major": 2,
       "version_minor": 0
      },
      "text/plain": [
       "HBox(children=(IntProgress(value=0, description='Epoch 43', max=6, style=ProgressStyle(description_width='init…"
      ]
     },
     "metadata": {},
     "output_type": "display_data"
    },
    {
     "name": "stdout",
     "output_type": "stream",
     "text": [
      "\n"
     ]
    },
    {
     "data": {
      "application/vnd.jupyter.widget-view+json": {
       "model_id": "4e292a75ece14e1ab8e667de89336587",
       "version_major": 2,
       "version_minor": 0
      },
      "text/plain": [
       "HBox(children=(IntProgress(value=0, description='Epoch 44', max=6, style=ProgressStyle(description_width='init…"
      ]
     },
     "metadata": {},
     "output_type": "display_data"
    },
    {
     "name": "stdout",
     "output_type": "stream",
     "text": [
      "\n"
     ]
    },
    {
     "data": {
      "application/vnd.jupyter.widget-view+json": {
       "model_id": "b895530d0a7345539650175365ce0c11",
       "version_major": 2,
       "version_minor": 0
      },
      "text/plain": [
       "HBox(children=(IntProgress(value=0, description='Epoch 45', max=6, style=ProgressStyle(description_width='init…"
      ]
     },
     "metadata": {},
     "output_type": "display_data"
    },
    {
     "name": "stdout",
     "output_type": "stream",
     "text": [
      "\n"
     ]
    },
    {
     "data": {
      "application/vnd.jupyter.widget-view+json": {
       "model_id": "ec3fe22255024ba3b182fc0272e8bbd8",
       "version_major": 2,
       "version_minor": 0
      },
      "text/plain": [
       "HBox(children=(IntProgress(value=0, description='Epoch 46', max=6, style=ProgressStyle(description_width='init…"
      ]
     },
     "metadata": {},
     "output_type": "display_data"
    },
    {
     "name": "stdout",
     "output_type": "stream",
     "text": [
      "\n"
     ]
    },
    {
     "data": {
      "application/vnd.jupyter.widget-view+json": {
       "model_id": "b069a01754f048a685f42c55cafb748a",
       "version_major": 2,
       "version_minor": 0
      },
      "text/plain": [
       "HBox(children=(IntProgress(value=0, description='Epoch 47', max=6, style=ProgressStyle(description_width='init…"
      ]
     },
     "metadata": {},
     "output_type": "display_data"
    },
    {
     "name": "stdout",
     "output_type": "stream",
     "text": [
      "\n"
     ]
    },
    {
     "data": {
      "application/vnd.jupyter.widget-view+json": {
       "model_id": "dc45d8a5b0bc4abeb6b3f9560f884846",
       "version_major": 2,
       "version_minor": 0
      },
      "text/plain": [
       "HBox(children=(IntProgress(value=0, description='Epoch 48', max=6, style=ProgressStyle(description_width='init…"
      ]
     },
     "metadata": {},
     "output_type": "display_data"
    },
    {
     "name": "stdout",
     "output_type": "stream",
     "text": [
      "\n"
     ]
    },
    {
     "data": {
      "application/vnd.jupyter.widget-view+json": {
       "model_id": "aa4a41850c354dfc8d410a247eaa2642",
       "version_major": 2,
       "version_minor": 0
      },
      "text/plain": [
       "HBox(children=(IntProgress(value=0, description='Epoch 49', max=6, style=ProgressStyle(description_width='init…"
      ]
     },
     "metadata": {},
     "output_type": "display_data"
    },
    {
     "name": "stdout",
     "output_type": "stream",
     "text": [
      "\n"
     ]
    },
    {
     "data": {
      "application/vnd.jupyter.widget-view+json": {
       "model_id": "5894875be7564834825138b4f8299094",
       "version_major": 2,
       "version_minor": 0
      },
      "text/plain": [
       "HBox(children=(IntProgress(value=0, description='Epoch 50', max=6, style=ProgressStyle(description_width='init…"
      ]
     },
     "metadata": {},
     "output_type": "display_data"
    },
    {
     "name": "stdout",
     "output_type": "stream",
     "text": [
      "\n"
     ]
    }
   ],
   "source": [
    "lunak_ann.fit(X, y, epochs=50, momentum=0.001, lr=0.001, batch_size=2, val_size=0.2)"
   ]
  },
  {
   "cell_type": "code",
   "execution_count": 60,
   "metadata": {},
   "outputs": [
    {
     "data": {
      "text/plain": [
       "array([[0, 3],\n",
       "       [0, 0]])"
      ]
     },
     "execution_count": 60,
     "metadata": {},
     "output_type": "execute_result"
    }
   ],
   "source": [
    "confusion_matrix([0, 0, 0], [1, 1, 1])"
   ]
  },
  {
   "cell_type": "code",
   "execution_count": 42,
   "metadata": {
    "scrolled": true
   },
   "outputs": [],
   "source": [
    "predictions = lunak_ann.predict(X)"
   ]
  },
  {
   "cell_type": "code",
   "execution_count": 43,
   "metadata": {},
   "outputs": [
    {
     "data": {
      "text/plain": [
       "[[1.0],\n",
       " [1.0],\n",
       " [1.0],\n",
       " [1.0],\n",
       " [1.0],\n",
       " [1.0],\n",
       " [1.0],\n",
       " [1.0],\n",
       " [1.0],\n",
       " [1.0],\n",
       " [1.0],\n",
       " [1.0],\n",
       " [1.0],\n",
       " [1.0]]"
      ]
     },
     "execution_count": 43,
     "metadata": {},
     "output_type": "execute_result"
    }
   ],
   "source": [
    "predictions"
   ]
  },
  {
   "cell_type": "markdown",
   "metadata": {},
   "source": [
    "### Keras"
   ]
  },
  {
   "cell_type": "code",
   "execution_count": 44,
   "metadata": {},
   "outputs": [
    {
     "name": "stderr",
     "output_type": "stream",
     "text": [
      "Using TensorFlow backend.\n"
     ]
    }
   ],
   "source": [
    "from keras.models import Sequential\n",
    "from keras.layers import Dense\n",
    "from keras.initializers import RandomUniform\n",
    "import keras\n",
    "import pandas as pd\n",
    "import tensorflow as tf"
   ]
  },
  {
   "cell_type": "code",
   "execution_count": 45,
   "metadata": {},
   "outputs": [],
   "source": [
    "keras_ann = Sequential()"
   ]
  },
  {
   "cell_type": "code",
   "execution_count": 46,
   "metadata": {},
   "outputs": [],
   "source": [
    "initializer = RandomUniform(minval=-0.05, maxval=0.05, seed=5)"
   ]
  },
  {
   "cell_type": "code",
   "execution_count": 47,
   "metadata": {},
   "outputs": [],
   "source": [
    "keras_ann.add(Dense(2, activation='sigmoid', input_dim=7, use_bias=False, kernel_initializer=initializer))\n",
    "keras_ann.add(Dense(1, activation='sigmoid', use_bias=False, kernel_initializer=initializer))"
   ]
  },
  {
   "cell_type": "code",
   "execution_count": 48,
   "metadata": {},
   "outputs": [],
   "source": [
    "optimizer_ = keras.optimizers.SGD(momentum=0.001, lr=0.001)"
   ]
  },
  {
   "cell_type": "code",
   "execution_count": 49,
   "metadata": {},
   "outputs": [],
   "source": [
    "keras_ann.compile(loss='mean_squared_error', optimizer=optimizer_, metrics=['accuracy'])"
   ]
  },
  {
   "cell_type": "code",
   "execution_count": 50,
   "metadata": {
    "scrolled": true
   },
   "outputs": [
    {
     "name": "stdout",
     "output_type": "stream",
     "text": [
      "Epoch 1/50\n",
      "14/14 [==============================] - 1s 41ms/step - loss: 0.2495 - acc: 0.6429\n",
      "Epoch 2/50\n",
      "14/14 [==============================] - 0s 513us/step - loss: 0.2495 - acc: 0.6429\n",
      "Epoch 3/50\n",
      "14/14 [==============================] - 0s 471us/step - loss: 0.2495 - acc: 0.6429\n",
      "Epoch 4/50\n",
      "14/14 [==============================] - 0s 447us/step - loss: 0.2495 - acc: 0.6429\n",
      "Epoch 5/50\n",
      "14/14 [==============================] - 0s 342us/step - loss: 0.2495 - acc: 0.6429\n",
      "Epoch 6/50\n",
      "14/14 [==============================] - 0s 186us/step - loss: 0.2494 - acc: 0.6429\n",
      "Epoch 7/50\n",
      "14/14 [==============================] - 0s 213us/step - loss: 0.2494 - acc: 0.6429\n",
      "Epoch 8/50\n",
      "14/14 [==============================] - 0s 180us/step - loss: 0.2494 - acc: 0.6429\n",
      "Epoch 9/50\n",
      "14/14 [==============================] - 0s 263us/step - loss: 0.2494 - acc: 0.6429\n",
      "Epoch 10/50\n",
      "14/14 [==============================] - 0s 225us/step - loss: 0.2494 - acc: 0.6429\n",
      "Epoch 11/50\n",
      "14/14 [==============================] - 0s 209us/step - loss: 0.2494 - acc: 0.6429\n",
      "Epoch 12/50\n",
      "14/14 [==============================] - 0s 199us/step - loss: 0.2494 - acc: 0.6429\n",
      "Epoch 13/50\n",
      "14/14 [==============================] - 0s 124us/step - loss: 0.2494 - acc: 0.6429\n",
      "Epoch 14/50\n",
      "14/14 [==============================] - 0s 412us/step - loss: 0.2494 - acc: 0.6429\n",
      "Epoch 15/50\n",
      "14/14 [==============================] - 0s 160us/step - loss: 0.2494 - acc: 0.6429\n",
      "Epoch 16/50\n",
      "14/14 [==============================] - 0s 150us/step - loss: 0.2494 - acc: 0.6429\n",
      "Epoch 17/50\n",
      "14/14 [==============================] - 0s 187us/step - loss: 0.2494 - acc: 0.6429\n",
      "Epoch 18/50\n",
      "14/14 [==============================] - 0s 132us/step - loss: 0.2494 - acc: 0.6429\n",
      "Epoch 19/50\n",
      "14/14 [==============================] - 0s 169us/step - loss: 0.2493 - acc: 0.6429\n",
      "Epoch 20/50\n",
      "14/14 [==============================] - 0s 163us/step - loss: 0.2493 - acc: 0.6429\n",
      "Epoch 21/50\n",
      "14/14 [==============================] - 0s 182us/step - loss: 0.2493 - acc: 0.6429\n",
      "Epoch 22/50\n",
      "14/14 [==============================] - 0s 391us/step - loss: 0.2493 - acc: 0.6429\n",
      "Epoch 23/50\n",
      "14/14 [==============================] - 0s 161us/step - loss: 0.2493 - acc: 0.6429\n",
      "Epoch 24/50\n",
      "14/14 [==============================] - 0s 192us/step - loss: 0.2493 - acc: 0.6429\n",
      "Epoch 25/50\n",
      "14/14 [==============================] - 0s 149us/step - loss: 0.2493 - acc: 0.6429\n",
      "Epoch 26/50\n",
      "14/14 [==============================] - 0s 205us/step - loss: 0.2493 - acc: 0.6429\n",
      "Epoch 27/50\n",
      "14/14 [==============================] - 0s 148us/step - loss: 0.2493 - acc: 0.6429\n",
      "Epoch 28/50\n",
      "14/14 [==============================] - 0s 399us/step - loss: 0.2492 - acc: 0.6429\n",
      "Epoch 29/50\n",
      "14/14 [==============================] - 0s 155us/step - loss: 0.2492 - acc: 0.6429\n",
      "Epoch 30/50\n",
      "14/14 [==============================] - 0s 108us/step - loss: 0.2492 - acc: 0.6429\n",
      "Epoch 31/50\n",
      "14/14 [==============================] - 0s 181us/step - loss: 0.2492 - acc: 0.6429\n",
      "Epoch 32/50\n",
      "14/14 [==============================] - 0s 169us/step - loss: 0.2492 - acc: 0.6429\n",
      "Epoch 33/50\n",
      "14/14 [==============================] - 0s 183us/step - loss: 0.2492 - acc: 0.6429\n",
      "Epoch 34/50\n",
      "14/14 [==============================] - 0s 220us/step - loss: 0.2492 - acc: 0.6429\n",
      "Epoch 35/50\n",
      "14/14 [==============================] - 0s 200us/step - loss: 0.2491 - acc: 0.6429\n",
      "Epoch 36/50\n",
      "14/14 [==============================] - 0s 157us/step - loss: 0.2491 - acc: 0.6429\n",
      "Epoch 37/50\n",
      "14/14 [==============================] - 0s 165us/step - loss: 0.2491 - acc: 0.6429\n",
      "Epoch 38/50\n",
      "14/14 [==============================] - 0s 147us/step - loss: 0.2491 - acc: 0.6429\n",
      "Epoch 39/50\n",
      "14/14 [==============================] - 0s 190us/step - loss: 0.2491 - acc: 0.6429\n",
      "Epoch 40/50\n",
      "14/14 [==============================] - 0s 193us/step - loss: 0.2491 - acc: 0.6429\n",
      "Epoch 41/50\n",
      "14/14 [==============================] - 0s 160us/step - loss: 0.2491 - acc: 0.6429\n",
      "Epoch 42/50\n",
      "14/14 [==============================] - 0s 149us/step - loss: 0.2491 - acc: 0.6429\n",
      "Epoch 43/50\n",
      "14/14 [==============================] - 0s 139us/step - loss: 0.2491 - acc: 0.6429\n",
      "Epoch 44/50\n",
      "14/14 [==============================] - 0s 412us/step - loss: 0.2491 - acc: 0.6429\n",
      "Epoch 45/50\n",
      "14/14 [==============================] - 0s 206us/step - loss: 0.2491 - acc: 0.6429\n",
      "Epoch 46/50\n",
      "14/14 [==============================] - 0s 226us/step - loss: 0.2491 - acc: 0.6429\n",
      "Epoch 47/50\n",
      "14/14 [==============================] - 0s 172us/step - loss: 0.2490 - acc: 0.6429\n",
      "Epoch 48/50\n",
      "14/14 [==============================] - 0s 185us/step - loss: 0.2490 - acc: 0.6429\n",
      "Epoch 49/50\n",
      "14/14 [==============================] - 0s 163us/step - loss: 0.2490 - acc: 0.6429\n",
      "Epoch 50/50\n",
      "14/14 [==============================] - 0s 164us/step - loss: 0.2490 - acc: 0.6429\n"
     ]
    },
    {
     "data": {
      "text/plain": [
       "<keras.callbacks.History at 0x7f06a55d8a58>"
      ]
     },
     "execution_count": 50,
     "metadata": {},
     "output_type": "execute_result"
    }
   ],
   "source": [
    "keras_ann.fit(X, y, epochs=50, batch_size=10)"
   ]
  },
  {
   "cell_type": "code",
   "execution_count": 51,
   "metadata": {},
   "outputs": [
    {
     "data": {
      "text/plain": [
       "array([[0.50376505],\n",
       "       [0.50385934],\n",
       "       [0.50383097],\n",
       "       [0.5039642 ],\n",
       "       [0.5037419 ],\n",
       "       [0.5035906 ],\n",
       "       [0.5034801 ],\n",
       "       [0.5038945 ],\n",
       "       [0.5034984 ],\n",
       "       [0.5037456 ],\n",
       "       [0.5035202 ],\n",
       "       [0.5039024 ],\n",
       "       [0.50364953],\n",
       "       [0.50392693]], dtype=float32)"
      ]
     },
     "execution_count": 51,
     "metadata": {},
     "output_type": "execute_result"
    }
   ],
   "source": [
    "keras_ann.predict(X)"
   ]
  }
 ],
 "metadata": {
  "kernelspec": {
   "display_name": "Python 3",
   "language": "python",
   "name": "python3"
  },
  "language_info": {
   "codemirror_mode": {
    "name": "ipython",
    "version": 3
   },
   "file_extension": ".py",
   "mimetype": "text/x-python",
   "name": "python",
   "nbconvert_exporter": "python",
   "pygments_lexer": "ipython3",
   "version": "3.6.6"
  }
 },
 "nbformat": 4,
 "nbformat_minor": 2
}
